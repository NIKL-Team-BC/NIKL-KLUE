{
 "cells": [
  {
   "cell_type": "code",
   "execution_count": 1,
   "metadata": {},
   "outputs": [],
   "source": [
    "import pickle as pickle\n",
    "import os\n",
    "import pandas as pd\n",
    "import torch\n",
    "from sklearn.metrics import accuracy_score\n",
    "import numpy as np\n",
    "import matplotlib.pyplot as plt\n",
    "import random\n",
    "from itertools import chain\n",
    "from torch.utils.data import DataLoader, RandomSampler, SequentialSampler\n",
    "import copy\n",
    "import csv\n",
    "import json\n",
    "import logging\n",
    "import os\n",
    "import torch.nn as nn\n",
    "from tqdm.auto import tqdm\n",
    "from transformers import AdamW, get_linear_schedule_with_warmup\n",
    "import torch.nn.functional as F\n",
    "\n",
    "from transformers import BartModel, BartConfig\n",
    "from transformers import ElectraModel, ElectraConfig, ElectraPreTrainedModel, ElectraTokenizer\n",
    "from transformers import AutoTokenizer,AutoModel, RobertaPreTrainedModel, AutoConfig\n"
   ]
  },
  {
   "cell_type": "code",
   "execution_count": 2,
   "metadata": {},
   "outputs": [],
   "source": [
    "random_seed=42\n",
    "torch.manual_seed(random_seed)\n",
    "torch.cuda.manual_seed(random_seed)\n",
    "torch.cuda.manual_seed_all(random_seed) # if use multi-GPU\n",
    "torch.backends.cudnn.deterministic = True\n",
    "torch.backends.cudnn.benchmark = False\n",
    "np.random.seed(random_seed)\n",
    "random.seed(random_seed)"
   ]
  },
  {
   "cell_type": "code",
   "execution_count": 3,
   "metadata": {},
   "outputs": [],
   "source": [
    "# Dataset 구성.\n",
    "class RE_Dataset(torch.utils.data.Dataset):\n",
    "    def __init__(self, tokenized_dataset, labels):\n",
    "        self.tokenized_dataset = tokenized_dataset\n",
    "        self.labels = labels\n",
    "    \n",
    "    def __getitem__(self, idx):\n",
    "        item = {key: torch.tensor(val[idx]) for key, val in self.tokenized_dataset.items()}\n",
    "        item['labels'] = torch.tensor(self.labels[idx], dtype=torch.long)\n",
    "        return item\n",
    "\n",
    "    def __len__(self):\n",
    "        return len(self.labels)\n",
    "\n",
    "# tsv 파일을 불러옵니다.\n",
    "def load_data(dataset_dir):\n",
    "    dataset = pd.read_csv(dataset_dir, delimiter='\\t')\n",
    "    li = []\n",
    "    for s1, s2 in zip(list(dataset['SENTENCE1']), list(dataset['SENTENCE2'])):\n",
    "        li.append(s1+' '+s2)\n",
    "    #dataset['sentence'] = li\n",
    "    dataset[\"ANSWER\"] = dataset[\"ANSWER\"].astype(int)\n",
    "    return dataset"
   ]
  },
  {
   "cell_type": "code",
   "execution_count": 4,
   "metadata": {},
   "outputs": [],
   "source": [
    "def compute_metrics(preds, labels):\n",
    "    assert len(preds) == len(labels)\n",
    "    return acc_and_f1(preds, labels)\n",
    "\n",
    "\n",
    "def simple_accuracy(preds, labels):\n",
    "    return (preds == labels).mean()\n",
    "\n",
    "\n",
    "def official_f1():\n",
    "\n",
    "    with open(os.path.join('/opt/ml/eval/result.txt'), \"r\", encoding=\"utf-8\") as f:\n",
    "        macro_result = list(f)[-1]\n",
    "        macro_result = macro_result.split(\":\")[1].replace(\">>>\", \"\").strip()\n",
    "        macro_result = macro_result.split(\"=\")[1].strip().replace(\"%\", \"\")\n",
    "        macro_result = float(macro_result) / 100\n",
    "\n",
    "    return macro_result\n",
    "\n",
    "def acc_and_f1(preds, labels, average=\"macro\"):\n",
    "    acc = simple_accuracy(preds, labels)\n",
    "    return {\n",
    "        \"acc\": acc,\n",
    "        #\"f1\": official_f1(),\n",
    "    }"
   ]
  },
  {
   "cell_type": "code",
   "execution_count": 5,
   "metadata": {},
   "outputs": [],
   "source": [
    "def convert_sentence_to_features(train_dataset, tokenizer, max_len, mode='train'):\n",
    "    \n",
    "    max_seq_len=max_len\n",
    "    #cls_token=tokenizer.cls_token\n",
    "    #sep_token=tokenizer.sep_token\n",
    "    pad_token=tokenizer.pad_token_id\n",
    "    add_sep_token=False\n",
    "    mask_padding_with_zero=True\n",
    "    \n",
    "    all_input_ids = []\n",
    "    all_attention_mask = []\n",
    "    all_e1_mask=[]\n",
    "    all_e2_mask=[]\n",
    "    all_label=[]\n",
    "    m_len=0\n",
    "    for idx in tqdm(range(len(train_dataset))):\n",
    "        sentence = '<''s''>' + train_dataset['SENTENCE1'][idx][:train_dataset['start_s1'][idx]] \\\n",
    "            + ' <e1> ' + train_dataset['SENTENCE1'][idx][train_dataset['start_s1'][idx]:train_dataset['end_s1'][idx]] \\\n",
    "            + ' </e1> ' + train_dataset['SENTENCE1'][idx][train_dataset['end_s1'][idx]:] + '</s>' \\\n",
    "            + ' ' \\\n",
    "            + '<s>' + train_dataset['SENTENCE2'][idx][:train_dataset['start_s2'][idx]] \\\n",
    "            + ' <e2> ' + train_dataset['SENTENCE2'][idx][train_dataset['start_s2'][idx]:train_dataset['end_s2'][idx]] \\\n",
    "            + ' </e2> ' + train_dataset['SENTENCE2'][idx][train_dataset['end_s2'][idx]:] + '</s>'\n",
    "        #print(sentence)\n",
    "        \n",
    "        token = tokenizer.tokenize(sentence)\n",
    "        m_len = max(m_len, len(token))\n",
    "        e11_p = token.index(\"<e1>\")  # the start position of entity1\n",
    "        e12_p = token.index(\"</e1>\")  # the end position of entity1\n",
    "        e21_p = token.index(\"<e2>\")  # the start position of entity2\n",
    "        e22_p = token.index(\"</e2>\")  # the end position of entity2\n",
    "\n",
    "        token[e11_p] = \"$\"\n",
    "        token[e12_p] = \"$\"\n",
    "        token[e21_p] = \"#\"\n",
    "        token[e22_p] = \"#\"\n",
    "\n",
    "        #print(token)\n",
    "\n",
    "        e11_p += 1\n",
    "        e12_p += 1\n",
    "        e21_p += 1\n",
    "        e22_p += 1\n",
    "\n",
    "        special_tokens_count = 1\n",
    "\n",
    "        if len(token) < max_seq_len - special_tokens_count:\n",
    "            input_ids = tokenizer.convert_tokens_to_ids(token)\n",
    "            attention_mask = [1 if mask_padding_with_zero else 0] * len(input_ids)\n",
    "\n",
    "            padding_length = max_seq_len - len(input_ids)\n",
    "            input_ids = input_ids + ([pad_token] * padding_length)\n",
    "            attention_mask = attention_mask + ([0 if mask_padding_with_zero else 1] * padding_length)\n",
    "\n",
    "            e1_mask = [0] * len(attention_mask)\n",
    "            e2_mask = [0] * len(attention_mask)\n",
    "\n",
    "            for i in range(e11_p, e12_p + 1):\n",
    "                e1_mask[i] = 1\n",
    "            for i in range(e21_p, e22_p + 1):\n",
    "                e2_mask[i] = 1\n",
    "\n",
    "            assert len(input_ids) == max_seq_len, \"Error with input length {} vs {}\".format(len(input_ids), max_seq_len)\n",
    "            assert len(attention_mask) == max_seq_len, \"Error with attention mask length {} vs {}\".format(\n",
    "                len(attention_mask), max_seq_len\n",
    "            )\n",
    "\n",
    "            all_input_ids.append(input_ids)\n",
    "            all_attention_mask.append(attention_mask)\n",
    "            all_e1_mask.append(e1_mask)\n",
    "            all_e2_mask.append(e2_mask)\n",
    "            all_label.append(train_dataset['ANSWER'][idx])\n",
    "    print(m_len)\n",
    "\n",
    "    all_features = {\n",
    "        'input_ids' : torch.tensor(all_input_ids),\n",
    "        'attention_mask' : torch.tensor(all_attention_mask),\n",
    "        'e1_mask' : torch.tensor(all_e1_mask),\n",
    "        'e2_mask' : torch.tensor(all_e2_mask)\n",
    "    }  \n",
    "    return RE_Dataset(all_features, all_label)"
   ]
  },
  {
   "cell_type": "code",
   "execution_count": 6,
   "metadata": {},
   "outputs": [],
   "source": [
    "def reduce_loss(loss, reduction='mean'):\n",
    "    return loss.mean() if reduction=='mean' else loss.sum() if reduction=='sum' else loss\n",
    "\n",
    "# Implementation from fastai https://github.com/fastai/fastai2/blob/master/fastai2/layers.py#L338\n",
    "class LabelSmoothingCrossEntropy(nn.Module):\n",
    "    def __init__(self, e:float=0.05, reduction='mean'):\n",
    "        super().__init__()\n",
    "        self.e,self.reduction = e,reduction\n",
    "    \n",
    "    def forward(self, output, target):\n",
    "        # number of classes\n",
    "        c = output.size()[-1]\n",
    "        log_preds = F.log_softmax(output, dim=-1)\n",
    "        loss = reduce_loss(-log_preds.sum(dim=-1), self.reduction)\n",
    "        nll = F.nll_loss(log_preds, target, reduction=self.reduction)\n",
    "        # (1-ε)* H(q,p) + ε*H(u,p)\n",
    "        return (1-self.e)*nll + self.e*(loss/c)"
   ]
  },
  {
   "cell_type": "code",
   "execution_count": 7,
   "metadata": {},
   "outputs": [],
   "source": [
    "class FCLayer(nn.Module):\n",
    "    def __init__(self, input_dim, output_dim, dropout_rate=0.0, use_activation=True):\n",
    "        super(FCLayer, self).__init__()\n",
    "        self.use_activation = use_activation\n",
    "        self.dropout = nn.Dropout(dropout_rate)\n",
    "        self.linear = nn.Linear(input_dim, output_dim)\n",
    "        self.tanh = nn.Tanh()\n",
    "\n",
    "    def forward(self, x):\n",
    "        x = self.dropout(x)\n",
    "        if self.use_activation:\n",
    "            x = self.tanh(x)\n",
    "        return self.linear(x)\n",
    "\n",
    "\n",
    "class Roberta_WiC(RobertaPreTrainedModel):\n",
    "    def __init__(self,  model_name, config, dropout_rate):\n",
    "        super(Roberta_WiC, self).__init__(config)\n",
    "        self.model = AutoModel.from_pretrained(model_name, config=config)  # Load pretrained XLMRoberta\n",
    "\n",
    "        self.num_labels = config.num_labels\n",
    "\n",
    "        #self.cls_fc_layer = FCLayer(config.hidden_size, config.hidden_size, dropout_rate)\n",
    "        self.eos_fc_layer = FCLayer(config.hidden_size, config.hidden_size, dropout_rate)\n",
    "        self.entity_fc_layer1 = FCLayer(config.hidden_size, config.hidden_size, dropout_rate)\n",
    "        self.entity_fc_layer2 = FCLayer(config.hidden_size, config.hidden_size, dropout_rate)\n",
    "\n",
    "        self.label_classifier = FCLayer(\n",
    "            config.hidden_size * 3,\n",
    "            config.num_labels,\n",
    "            dropout_rate,\n",
    "            use_activation=False,\n",
    "        )\n",
    "\n",
    "    @staticmethod\n",
    "    def entity_average(hidden_output, e_mask):\n",
    "        \"\"\"\n",
    "        Average the entity hidden state vectors (H_i ~ H_j)\n",
    "        :param hidden_output: [batch_size, j-i+1, dim]\n",
    "        :param e_mask: [batch_size, max_seq_len]\n",
    "                e.g. e_mask[0] == [0, 0, 0, 1, 1, 1, 0, 0, ... 0]\n",
    "        :return: [batch_size, dim]\n",
    "        \"\"\"\n",
    "        e_mask_unsqueeze = e_mask.unsqueeze(1)  # [b, 1, j-i+1]\n",
    "        length_tensor = (e_mask != 0).sum(dim=1).unsqueeze(1)  # [batch_size, 1]\n",
    "\n",
    "        # [b, 1, j-i+1] * [b, j-i+1, dim] = [b, 1, dim] -> [b, dim]\n",
    "        sum_vector = torch.bmm(e_mask_unsqueeze.float(), hidden_output).squeeze(1)\n",
    "        avg_vector = sum_vector.float() / length_tensor.float()  # broadcasting\n",
    "        return avg_vector\n",
    "\n",
    "    def forward(self, input_ids, attention_mask, labels, e1_mask, e2_mask):\n",
    "        outputs = self.model(\n",
    "            input_ids, attention_mask=attention_mask\n",
    "        )  # sequence_output, pooled_output, (hidden_states), (attentions)\n",
    "        sequence_output = outputs[0] #batch, max_len, hidden_size 16, 280, 768 \n",
    "\n",
    "        # cls_mask = input_ids.eq(0) # cls\n",
    "        # sentence_representation_cls = sequence_output[cls_mask, :].view(sequence_output.size(0), -1, sequence_output.size(-1))[:,-1,:]\n",
    "    \n",
    "\n",
    "        # eos_mask = input_ids.eq(1) # eos token id = 1\n",
    "        \n",
    "        # sentence_representation = sequence_output[eos_mask, :].view(sequence_output.size(0), -1, sequence_output.size(-1))[:,-1,:]\n",
    "    \n",
    "        e1_h = self.entity_average(sequence_output, e1_mask)\n",
    "        e2_h = self.entity_average(sequence_output, e2_mask)\n",
    "        # Dropout -> tanh -> fc_layer (Share FC layer for e1 and e2)\n",
    "        #sentence_representation_cls = self.cls_fc_layer(sentence_representation_cls)\n",
    "        sentence_representation = self.eos_fc_layer(outputs.pooler_output)\n",
    "#         sentence_representation = self.eos_fc_layer(sequence_output[:,0,:])\n",
    "        e1_h = self.entity_fc_layer1(e1_h)\n",
    "        e2_h = self.entity_fc_layer2(e2_h)\n",
    "        # Concat -> fc_layer\n",
    "        #concat_h = torch.cat([pooled_output, e1_h, e2_h, torch.abs(torch.sub(e1_h,e2_h))], dim=-1)\n",
    "        concat_h = torch.cat([sentence_representation, e1_h, e2_h], dim=-1)\n",
    "        logits = self.label_classifier(concat_h)\n",
    "        outputs = (logits,) + outputs[2:]  # add hidden states and attention if they are here\n",
    "        # Softmax\n",
    "        if labels is not None:\n",
    "            if self.num_labels == 1:\n",
    "                loss_fct = nn.MSELoss()\n",
    "                loss = loss_fct(logits.view(-1), labels.view(-1))\n",
    "            else:\n",
    "                loss_fct = nn.CrossEntropyLoss()\n",
    "                #loss_fct = nn.BCEWithLogitsLoss()\n",
    "                #loss_fct = LabelSmoothingCrossEntropy()\n",
    "                #loss_fct = Cross_FocalLoss()\n",
    "                loss = loss_fct(logits.view(-1, self.num_labels), labels.view(-1))\n",
    "\n",
    "            outputs = (loss,) + outputs\n",
    "\n",
    "        return outputs  # (loss), logits, (hidden_states), (attentions)"
   ]
  },
  {
   "cell_type": "code",
   "execution_count": 8,
   "metadata": {},
   "outputs": [],
   "source": [
    "class Trainer(object):\n",
    "    def __init__(self,num_labels,logging_steps, save_steps,max_steps,\n",
    "                 num_train_epochs,warmup_steps,adam_epsilon,learning_rate,gradient_accumulation_steps,\n",
    "                 max_grad_norm, eval_batch_size, train_batch_size, model_dir, dropout_rate, classifier_epoch,tokenizer,\n",
    "                 weight_decay,train_dataset=None, dev_dataset=None, test_dataset=None):\n",
    "        #self.args = args\n",
    "        self.train_dataset = train_dataset\n",
    "        self.eval_batch_size = eval_batch_size\n",
    "        self.train_batch_size = train_batch_size\n",
    "        self.dev_dataset = dev_dataset\n",
    "        self.test_dataset = test_dataset\n",
    "        #self.Model_name = Model_name\n",
    "        #self.label_lst = label_dict\n",
    "        self.num_labels = num_labels\n",
    "        self.max_steps = max_steps\n",
    "        self.weight_decay = weight_decay\n",
    "        self.learning_rate = learning_rate\n",
    "        self.adam_epsilon=adam_epsilon\n",
    "        self.warmup_steps = warmup_steps\n",
    "        self.num_train_epochs = num_train_epochs\n",
    "        self.logging_steps = logging_steps\n",
    "        self.save_steps = save_steps\n",
    "        self.max_grad_norm = max_grad_norm\n",
    "        self.model_dir = model_dir\n",
    "        self.dropout_rate = dropout_rate\n",
    "        self.classifier_epoch=classifier_epoch\n",
    "        self.gradient_accumulation_steps = gradient_accumulation_steps\n",
    "        self.global_epo=0\n",
    "        self.config = AutoConfig.from_pretrained(\n",
    "            \"klue/roberta-large\",\n",
    "            num_labels=self.num_labels\n",
    "        )\n",
    "        self.model = Roberta_WiC(\n",
    "           \"klue/roberta-large\", \n",
    "            config=self.config, \n",
    "            dropout_rate = self.dropout_rate,\n",
    "        )\n",
    "\n",
    "        # GPU or CPU\n",
    "        self.device = \"cuda\" if torch.cuda.is_available() else \"cpu\"\n",
    "        self.model.to(self.device)\n",
    "        self.tokenizer = tokenizer\n",
    "        self.best_score = 0\n",
    "        self.hold_epoch = 0\n",
    "#         self.model.resize_token_embeddings(len(self.tokenizer))\n",
    "        \n",
    "    def train(self):\n",
    "        train_sampler = RandomSampler(self.train_dataset)\n",
    "        train_dataloader = DataLoader(\n",
    "            self.train_dataset,\n",
    "            sampler=train_sampler,\n",
    "            batch_size=self.train_batch_size,\n",
    "        )\n",
    "\n",
    "        if self.max_steps > 0:\n",
    "            t_total = self.max_steps\n",
    "            self.num_train_epochs = (\n",
    "                self.max_steps // (len(train_dataloader) // self.gradient_accumulation_steps) + 1\n",
    "            )\n",
    "        else:\n",
    "            t_total = len(train_dataloader) // self.gradient_accumulation_steps * self.num_train_epochs\n",
    "\n",
    "        # Prepare optimizer and schedule (linear warmup and decay)\n",
    "        no_decay = [\"bias\", \"LayerNorm.weight\"]\n",
    "        optimizer_grouped_parameters = [\n",
    "            {\n",
    "                \"params\": [p for n, p in self.model.named_parameters() if not any(nd in n for nd in no_decay)],\n",
    "                \"weight_decay\": self.weight_decay,\n",
    "            },\n",
    "            {\n",
    "                \"params\": [p for n, p in self.model.named_parameters() if any(nd in n for nd in no_decay)],\n",
    "                \"weight_decay\": 0.0,\n",
    "            },\n",
    "        ]\n",
    "        optimizer = AdamW(\n",
    "            optimizer_grouped_parameters,\n",
    "            lr=self.learning_rate,\n",
    "            eps=self.adam_epsilon,\n",
    "        )\n",
    "        scheduler = get_linear_schedule_with_warmup(\n",
    "            optimizer,\n",
    "            num_warmup_steps=self.warmup_steps,\n",
    "            num_training_steps=t_total,\n",
    "        )\n",
    "        \n",
    "        #scaler = torch.cuda.amp.GradScaler()\n",
    "        # Train!\n",
    "        logger.info(\"***** Running training *****\")\n",
    "        logger.info(\"  Num examples = %d\", len(self.train_dataset))\n",
    "        logger.info(\"  Num Epochs = %d\", self.num_train_epochs)\n",
    "        logger.info(\"  Total train batch size = %d\", self.train_batch_size)\n",
    "        logger.info(\"  Gradient Accumulation steps = %d\", self.gradient_accumulation_steps)\n",
    "        logger.info(\"  Total optimization steps = %d\", t_total)\n",
    "        logger.info(\"  Logging steps = %d\", self.logging_steps)\n",
    "        logger.info(\"  Save steps = %d\", self.save_steps)\n",
    "\n",
    "        global_step = 0\n",
    "        tr_loss = 0.0\n",
    "        self.model.zero_grad()\n",
    "\n",
    "        train_iterator = tqdm(range(int(self.num_train_epochs)), desc=\"Epoch\")\n",
    "\n",
    "        for epo_step in train_iterator:\n",
    "            self.global_epo = epo_step\n",
    "            epoch_iterator = tqdm(train_dataloader, desc=\"Iteration\")\n",
    "            for step, batch in enumerate(epoch_iterator):\n",
    "                self.model.train()\n",
    "                batch = tuple(batch[t].to(self.device) for t in batch)  # GPU or CPU\n",
    "                inputs = {\n",
    "                    \"input_ids\": batch[0],\n",
    "                    \"attention_mask\": batch[1],\n",
    "                    \"labels\": batch[4],\n",
    "                    \"e1_mask\": batch[2],\n",
    "                    \"e2_mask\": batch[3]\n",
    "                }\n",
    "                #with torch.cuda.amp.autocast():\n",
    "                outputs = self.model(**inputs)\n",
    "                loss = outputs[0]\n",
    "\n",
    "                if self.gradient_accumulation_steps > 1:\n",
    "                    loss = loss / self.gradient_accumulation_steps\n",
    "\n",
    "                #scaler.scale(loss).backward()\n",
    "                loss.backward()\n",
    "\n",
    "                tr_loss += loss.item()\n",
    "                if (step + 1) % self.gradient_accumulation_steps == 0:\n",
    "                    torch.nn.utils.clip_grad_norm_(self.model.parameters(), self.max_grad_norm)\n",
    "\n",
    "                    optimizer.step()\n",
    "                    #scaler.step(optimizer)\n",
    "                    #scaler.update()\n",
    "                    scheduler.step()  # Update learning rate schedule\n",
    "                    self.model.zero_grad()\n",
    "                    global_step += 1\n",
    "\n",
    "                if self.logging_steps > 0 and global_step % self.logging_steps == 0:\n",
    "                    logger.info(\"  global steps = %d\", global_step)\n",
    "#                     self.evaluate(\"train\")  # There is no dev set for semeval task\n",
    "#                 if self.save_steps > 0 and global_step % self.save_steps == 0:\n",
    "#                     self.evaluate(\"dev\")\n",
    "#                     self.save_model()\n",
    "\n",
    "                if 0 < self.max_steps < global_step:\n",
    "                    epoch_iterator.close()\n",
    "                    break\n",
    "            # epoch 마다\n",
    "            self.evaluate(\"dev\")\n",
    "            if self.hold_epoch > 4:\n",
    "                train_iterator.close()\n",
    "                break\n",
    "                \n",
    "            if 0 < self.max_steps < global_step:\n",
    "                train_iterator.close()\n",
    "                break\n",
    "          \n",
    "\n",
    "        return global_step, tr_loss / global_step\n",
    "    \n",
    "   \n",
    "    def evaluate(self, mode):\n",
    "        # We use test dataset because semeval doesn't have dev dataset\n",
    "        if mode == \"test\":\n",
    "            dataset = self.test_dataset\n",
    "        elif mode == \"dev\":\n",
    "            dataset = self.dev_dataset\n",
    "        elif mode == \"train\":\n",
    "            dataset = self.train_dataset\n",
    "        else:\n",
    "            raise Exception(\"Only dev and test dataset available\")\n",
    "\n",
    "        eval_sampler = SequentialSampler(dataset)\n",
    "        eval_dataloader = DataLoader(dataset, sampler=eval_sampler, batch_size=self.eval_batch_size)\n",
    "\n",
    "        # Eval!\n",
    "        logger.info('---------------------------------------------------')\n",
    "        logger.info(\"***** Running evaluation on %s dataset *****\", mode)\n",
    "        logger.info(\"  Num examples = %d\", len(dataset))\n",
    "        logger.info(\"  Batch size = %d\", self.eval_batch_size)\n",
    "        eval_loss = 0.0\n",
    "        nb_eval_steps = 0\n",
    "        preds = None\n",
    "        out_label_ids = None\n",
    "\n",
    "        self.model.eval()\n",
    "\n",
    "        for batch in tqdm(eval_dataloader, desc=\"Evaluating\"):\n",
    "            batch = tuple(batch[t].to(self.device) for t in batch)\n",
    "            with torch.no_grad():\n",
    "                inputs = {\n",
    "                    \"input_ids\": batch[0],\n",
    "                    \"attention_mask\": batch[1],\n",
    "                    \"labels\": batch[4],\n",
    "                    \"e1_mask\": batch[2],\n",
    "                    \"e2_mask\": batch[3],\n",
    "                }\n",
    "                #with torch.cuda.amp.autocast():\n",
    "                outputs = self.model(**inputs)\n",
    "                tmp_eval_loss, logits = outputs[:2]\n",
    "                eval_loss += tmp_eval_loss.mean().item()\n",
    "            nb_eval_steps += 1\n",
    "\n",
    "            if preds is None:\n",
    "                preds = logits.detach().cpu().numpy()\n",
    "                out_label_ids = inputs[\"labels\"].detach().cpu().numpy()\n",
    "            else:\n",
    "                preds = np.append(preds, logits.detach().cpu().numpy(), axis=0)\n",
    "                out_label_ids = np.append(out_label_ids, inputs[\"labels\"].detach().cpu().numpy(), axis=0)\n",
    "\n",
    "        eval_loss = eval_loss / nb_eval_steps\n",
    "        results = {\"loss\": eval_loss}\n",
    "        preds = np.argmax(preds, axis=1)\n",
    "        # preds = np.around(preds)\n",
    "        # preds = preds.astype(int)\n",
    "        result = compute_metrics(preds, out_label_ids)\n",
    "        \n",
    "        if mode == \"dev\":\n",
    "            if result['acc']>self.best_score:\n",
    "                self.save_model()\n",
    "                self.best_score = result['acc']\n",
    "                print('save new best model acc : ',str(self.best_score))\n",
    "                self.hold_epoch = 0\n",
    "            else:\n",
    "                self.hold_epoch += 1\n",
    "        \n",
    "        \n",
    "        results.update(result)\n",
    "\n",
    "        logger.info(\"***** Eval results *****\")\n",
    "        for key in sorted(results.keys()):\n",
    "            logger.info(\"  {} = {:.4f}\".format(key, results[key]))\n",
    "            # if key == 'acc':\n",
    "            #     if results[key] > 0.85:\n",
    "            #         self.test_pred()\n",
    "        logger.info(\"---------------------------------------------------\")\n",
    "        return results\n",
    "    \n",
    "    def test_pred(self):\n",
    "        # train_Dataset\n",
    "        # eval_batch_size = 16\n",
    "        # self.model = \n",
    "        test_dataset = self.test_dataset\n",
    "        test_sampler = SequentialSampler(test_dataset)\n",
    "        test_dataloader = DataLoader(test_dataset, sampler=test_sampler,batch_size=self.eval_batch_size)\n",
    "\n",
    "        # Eval!\n",
    "        logger.info(\"***** Running evaluation on %s dataset *****\", \"test\")\n",
    "        #logger.info(\"  Num examples = %d\", len(dataset))\n",
    "        logger.info(\"  Batch size = %d\", self.eval_batch_size)\n",
    "\n",
    "        nb_eval_steps = 0\n",
    "        preds = None\n",
    "        out_label_ids = None\n",
    "\n",
    "        self.model.eval()\n",
    "\n",
    "        for batch in tqdm(test_dataloader, desc=\"Predicting\"):\n",
    "            batch = tuple(batch[t].to(self.device) for t in batch)\n",
    "            with torch.no_grad():\n",
    "                inputs = {\n",
    "                    \"input_ids\": batch[0],\n",
    "                    \"attention_mask\": batch[1],\n",
    "                    \"labels\": None,\n",
    "                    \"e1_mask\": batch[2],\n",
    "                    \"e2_mask\": batch[3],\n",
    "                }\n",
    "                outputs = self.model(**inputs)\n",
    "                #print(outputs)\n",
    "                pred = outputs[0]\n",
    "\n",
    "            nb_eval_steps += 1\n",
    "\n",
    "            if preds is None:\n",
    "                preds = pred.detach().cpu().numpy()\n",
    "                #out_label_ids = inputs[\"labels\"].detach().cpu().numpy()\n",
    "            else:\n",
    "                preds = np.append(preds, pred.detach().cpu().numpy(), axis=0)\n",
    "                #out_label_ids = np.append(out_label_ids, inputs[\"labels\"].detach().cpu().numpy(), axis=0)\n",
    "\n",
    "        # preds = np.around(preds)\n",
    "        preds_label = np.argmax(preds, axis=1)\n",
    "        df = pd.DataFrame(preds, columns=['pred_0','pred_1'])\n",
    "        df['label'] = preds_label\n",
    "        preds = preds.astype(int)\n",
    "        return df\n",
    "        # df.to_csv('klueRoberta_layersplit_with_focalcross_epoch'+str(self.global_epo)+'.csv', index=False)\n",
    "#         with open(\"proposed_answers.txt\", \"w\", encoding=\"utf-8\") as f:\n",
    "#             for idx, pred in enumerate(preds):\n",
    "#                 f.write(\"{}\\n\".format(pred))\n",
    "        #write_prediction(self.args, os.path.join(self.args.eval_dir, \"proposed_answers.txt\"), preds)\n",
    "    \n",
    "\n",
    "    def save_model(self,new_dir=None):\n",
    "        # Save model checkpoint (Overwrite)\n",
    "        if not os.path.exists(self.model_dir):\n",
    "            os.makedirs(self.model_dir)\n",
    "        if new_dir == None:\n",
    "            pass\n",
    "        else:\n",
    "            if not os.path.exists(new_dir):\n",
    "                os.makedirs(new_dir)\n",
    "            self.model_dir = new_dir\n",
    "        model_to_save = self.model.module if hasattr(self.model, \"module\") else self.model\n",
    "        model_to_save.save_pretrained(self.model_dir)\n",
    "\n",
    "        # Save training arguments together with the trained model\n",
    "        #torch.save(self.args, os.path.join(self.args.model_dir, \"training_args.bin\"))\n",
    "        logger.info(\"Saving model checkpoint to %s\", self.model_dir)\n",
    "\n",
    "    def load_model(self):\n",
    "        # Check whether model exists\n",
    "        if not os.path.exists(self.model_dir):\n",
    "            raise Exception(\"Model doesn't exists! Train first!\")\n",
    "\n",
    "        #self.args = torch.load(os.path.join(self.args.model_dir, \"training_args.bin\"))\n",
    "        self.model = AutoModel.from_pretrained(self.model_dir)\n",
    "        self.model.to(self.device)\n",
    "        logger.info(\"***** Model Loaded *****\")"
   ]
  },
  {
   "cell_type": "code",
   "execution_count": 9,
   "metadata": {},
   "outputs": [],
   "source": [
    "def init_logger():\n",
    "    logging.basicConfig(\n",
    "        format=\"%(asctime)s - %(levelname)s - %(name)s -   %(message)s\",\n",
    "        datefmt=\"%m/%d/%Y %H:%M:%S\",\n",
    "        level=logging.INFO,\n",
    "    )"
   ]
  },
  {
   "cell_type": "code",
   "execution_count": 10,
   "metadata": {},
   "outputs": [
    {
     "data": {
      "text/plain": [
       "4"
      ]
     },
     "execution_count": 10,
     "metadata": {},
     "output_type": "execute_result"
    }
   ],
   "source": [
    "logger = logging.getLogger(__name__)\n",
    "init_logger()\n",
    "#train_dataset = load_data(\"/opt/ml/input/data/train/train+all.tsv\")\n",
    "train_dataset = load_data(\"./WIC/Data/NIKL_SKT_WiC_Train.tsv\")\n",
    "\n",
    "#test_dataset = load_data(\"/content/drive/MyDrive/NIKL/NIKL_WiC/Data/NIKL_SKT_WiC_Dev.tsv\")\n",
    "dev_dataset = load_data(\"./WIC/Data/NIKL_SKT_WiC_Dev.tsv\")\n",
    "#train_label = train_dataset['label'].values\n",
    "#train_dataset.columns= ['link','sentence' 'entity_01','e1s','e1e','entity_02','e2s','e2e','label']\n",
    "# first_sent_start = 's1'\n",
    "# first_sent_end = 'e1'\n",
    "# second_sent_start='s2'\n",
    "# second_sent_end = 'e2'\n",
    "ADDITIONAL_SPECIAL_TOKENS = [\"<e1>\", \"</e1>\", \"<e2>\", \"</e2>\"]\n",
    "#MODEL_NAME = \"xlm-roXLMRobertaa-large\"\n",
    "tokenizer = AutoTokenizer.from_pretrained(\"klue/roberta-large\", return_token_type_ids=False)\n",
    "tokenizer.add_special_tokens({\"additional_special_tokens\": ADDITIONAL_SPECIAL_TOKENS})"
   ]
  },
  {
   "cell_type": "code",
   "execution_count": 11,
   "metadata": {},
   "outputs": [],
   "source": [
    "dev_dataset['ID'] = dev_dataset['ID']+ 7748"
   ]
  },
  {
   "cell_type": "code",
   "execution_count": 12,
   "metadata": {},
   "outputs": [
    {
     "data": {
      "text/plain": [
       "(8914, 9)"
      ]
     },
     "execution_count": 12,
     "metadata": {},
     "output_type": "execute_result"
    }
   ],
   "source": [
    "conact_dataset = pd.concat([train_dataset,dev_dataset])\n",
    "conact_dataset.shape"
   ]
  },
  {
   "cell_type": "code",
   "execution_count": 13,
   "metadata": {},
   "outputs": [],
   "source": [
    "def make_fold(x):\n",
    "    if x <= conact_dataset.shape[0]*0.2:\n",
    "        return 0\n",
    "    elif x > conact_dataset.shape[0]*0.2 and x <= conact_dataset.shape[0]*0.4:\n",
    "        return 1\n",
    "    elif x > conact_dataset.shape[0]*0.4 and x <= conact_dataset.shape[0]*0.6 :\n",
    "        return 2\n",
    "    elif x > conact_dataset.shape[0]*0.6 and x <= conact_dataset.shape[0]*0.8 :\n",
    "        return 3\n",
    "    else:\n",
    "        return 4\n",
    "    "
   ]
  },
  {
   "cell_type": "code",
   "execution_count": 14,
   "metadata": {},
   "outputs": [],
   "source": [
    "conact_dataset['fold']= conact_dataset['ID'].apply(make_fold)\n",
    "conact_dataset = conact_dataset.drop(['ID', 'Target'],axis=1)"
   ]
  },
  {
   "cell_type": "code",
   "execution_count": 15,
   "metadata": {},
   "outputs": [
    {
     "data": {
      "application/vnd.jupyter.widget-view+json": {
       "model_id": "4661cc60a3624fd48115a37d7fa9a61a",
       "version_major": 2,
       "version_minor": 0
      },
      "text/plain": [
       "  0%|          | 0/1246 [00:00<?, ?it/s]"
      ]
     },
     "metadata": {},
     "output_type": "display_data"
    },
    {
     "name": "stdout",
     "output_type": "stream",
     "text": [
      "246\n"
     ]
    }
   ],
   "source": [
    "def load_test_data(dataset_dir):\n",
    "    dataset = pd.read_csv(dataset_dir, delimiter='\\t')\n",
    "    li = []\n",
    "    for s1, s2 in zip(list(dataset['SENTENCE1']), list(dataset['SENTENCE2'])):\n",
    "        li.append(s1+' '+s2)\n",
    "    #dataset['sentence'] = li\n",
    "    dataset[\"ANSWER\"] = [0] * len(dataset)\n",
    "    return dataset\n",
    "test_dataset = load_test_data(\"./WIC/Data/NIKL_SKT_WiC_Test.tsv\")\n",
    "test_Dataset = convert_sentence_to_features(test_dataset, tokenizer, max_len= 280, mode='eval')"
   ]
  },
  {
   "cell_type": "code",
   "execution_count": 16,
   "metadata": {},
   "outputs": [
    {
     "data": {
      "text/plain": [
       "Int64Index([1782, 1783, 1784, 1785, 1786, 1787, 1788, 1789, 1790, 1791,\n",
       "            ...\n",
       "            5338, 5339, 5340, 5341, 5342, 5343, 5344, 5345, 5346, 5347],\n",
       "           dtype='int64', length=7132)"
      ]
     },
     "execution_count": 16,
     "metadata": {},
     "output_type": "execute_result"
    }
   ],
   "source": [
    "trn_idx = conact_dataset[conact_dataset['fold'] != 0].index\n",
    "\n",
    "sample = trn_idx[0:len(trn_idx)//2]\n",
    "\n",
    "sample.append(trn_idx[0:len(trn_idx)//2])"
   ]
  },
  {
   "cell_type": "code",
   "execution_count": 17,
   "metadata": {
    "scrolled": false
   },
   "outputs": [
    {
     "data": {
      "application/vnd.jupyter.widget-view+json": {
       "model_id": "d52e7978fba04bd1a5f174ee735e9230",
       "version_major": 2,
       "version_minor": 0
      },
      "text/plain": [
       "  0%|          | 0/5 [00:00<?, ?it/s]"
      ]
     },
     "metadata": {},
     "output_type": "display_data"
    },
    {
     "data": {
      "application/vnd.jupyter.widget-view+json": {
       "model_id": "c557337f3a7745348e3288ab183dea4b",
       "version_major": 2,
       "version_minor": 0
      },
      "text/plain": [
       "  0%|          | 0/7748 [00:00<?, ?it/s]"
      ]
     },
     "metadata": {},
     "output_type": "display_data"
    },
    {
     "name": "stdout",
     "output_type": "stream",
     "text": [
      "228\n"
     ]
    },
    {
     "data": {
      "application/vnd.jupyter.widget-view+json": {
       "model_id": "3e4b4c0ffb1e4d2da0e8eccb992b2a47",
       "version_major": 2,
       "version_minor": 0
      },
      "text/plain": [
       "  0%|          | 0/1166 [00:00<?, ?it/s]"
      ]
     },
     "metadata": {},
     "output_type": "display_data"
    },
    {
     "name": "stdout",
     "output_type": "stream",
     "text": [
      "200\n"
     ]
    },
    {
     "name": "stderr",
     "output_type": "stream",
     "text": [
      "Some weights of the model checkpoint at klue/roberta-large were not used when initializing RobertaModel: ['lm_head.dense.bias', 'lm_head.decoder.bias', 'lm_head.layer_norm.weight', 'lm_head.dense.weight', 'lm_head.layer_norm.bias', 'lm_head.bias', 'lm_head.decoder.weight']\n",
      "- This IS expected if you are initializing RobertaModel from the checkpoint of a model trained on another task or with another architecture (e.g. initializing a BertForSequenceClassification model from a BertForPreTraining model).\n",
      "- This IS NOT expected if you are initializing RobertaModel from the checkpoint of a model that you expect to be exactly identical (initializing a BertForSequenceClassification model from a BertForSequenceClassification model).\n",
      "Some weights of RobertaModel were not initialized from the model checkpoint at klue/roberta-large and are newly initialized: ['roberta.pooler.dense.bias', 'roberta.pooler.dense.weight']\n",
      "You should probably TRAIN this model on a down-stream task to be able to use it for predictions and inference.\n",
      "11/08/2021 16:00:30 - INFO - __main__ -   ***** Running training *****\n",
      "11/08/2021 16:00:30 - INFO - __main__ -     Num examples = 7748\n",
      "11/08/2021 16:00:30 - INFO - __main__ -     Num Epochs = 10\n",
      "11/08/2021 16:00:30 - INFO - __main__ -     Total train batch size = 16\n",
      "11/08/2021 16:00:30 - INFO - __main__ -     Gradient Accumulation steps = 2\n",
      "11/08/2021 16:00:30 - INFO - __main__ -     Total optimization steps = 2420\n",
      "11/08/2021 16:00:30 - INFO - __main__ -     Logging steps = 1292\n",
      "11/08/2021 16:00:30 - INFO - __main__ -     Save steps = 2584\n"
     ]
    },
    {
     "data": {
      "application/vnd.jupyter.widget-view+json": {
       "model_id": "8ce0678a948e41a69658bf7b400264c7",
       "version_major": 2,
       "version_minor": 0
      },
      "text/plain": [
       "Epoch:   0%|          | 0/10 [00:00<?, ?it/s]"
      ]
     },
     "metadata": {},
     "output_type": "display_data"
    },
    {
     "data": {
      "application/vnd.jupyter.widget-view+json": {
       "model_id": "badeee806f0f451b8273154160b136bb",
       "version_major": 2,
       "version_minor": 0
      },
      "text/plain": [
       "Iteration:   0%|          | 0/485 [00:00<?, ?it/s]"
      ]
     },
     "metadata": {},
     "output_type": "display_data"
    },
    {
     "name": "stderr",
     "output_type": "stream",
     "text": [
      "/tmp/ipykernel_7085/1713354404.py:8: UserWarning: To copy construct from a tensor, it is recommended to use sourceTensor.clone().detach() or sourceTensor.clone().detach().requires_grad_(True), rather than torch.tensor(sourceTensor).\n",
      "  item = {key: torch.tensor(val[idx]) for key, val in self.tokenized_dataset.items()}\n",
      "11/08/2021 16:00:31 - INFO - __main__ -     global steps = 0\n",
      "11/08/2021 16:07:51 - INFO - __main__ -   ---------------------------------------------------\n",
      "11/08/2021 16:07:51 - INFO - __main__ -   ***** Running evaluation on dev dataset *****\n",
      "11/08/2021 16:07:51 - INFO - __main__ -     Num examples = 1166\n",
      "11/08/2021 16:07:51 - INFO - __main__ -     Batch size = 16\n"
     ]
    },
    {
     "data": {
      "application/vnd.jupyter.widget-view+json": {
       "model_id": "28357b3b9d9247ba82f013dcc42e1d44",
       "version_major": 2,
       "version_minor": 0
      },
      "text/plain": [
       "Evaluating:   0%|          | 0/73 [00:00<?, ?it/s]"
      ]
     },
     "metadata": {},
     "output_type": "display_data"
    },
    {
     "name": "stderr",
     "output_type": "stream",
     "text": [
      "11/08/2021 16:08:15 - INFO - __main__ -   Saving model checkpoint to ./final_klue_roberta_model_0\n",
      "11/08/2021 16:08:15 - INFO - __main__ -   ***** Eval results *****\n",
      "11/08/2021 16:08:15 - INFO - __main__ -     acc = 0.8516\n",
      "11/08/2021 16:08:15 - INFO - __main__ -     loss = 0.3548\n",
      "11/08/2021 16:08:15 - INFO - __main__ -   ---------------------------------------------------\n"
     ]
    },
    {
     "name": "stdout",
     "output_type": "stream",
     "text": [
      "save new best model acc :  0.8516295025728988\n"
     ]
    },
    {
     "data": {
      "application/vnd.jupyter.widget-view+json": {
       "model_id": "7ce0037cf8cd4416a9ac0211f5a62d8f",
       "version_major": 2,
       "version_minor": 0
      },
      "text/plain": [
       "Iteration:   0%|          | 0/485 [00:00<?, ?it/s]"
      ]
     },
     "metadata": {},
     "output_type": "display_data"
    },
    {
     "name": "stderr",
     "output_type": "stream",
     "text": [
      "11/08/2021 16:15:38 - INFO - __main__ -   ---------------------------------------------------\n",
      "11/08/2021 16:15:38 - INFO - __main__ -   ***** Running evaluation on dev dataset *****\n",
      "11/08/2021 16:15:38 - INFO - __main__ -     Num examples = 1166\n",
      "11/08/2021 16:15:38 - INFO - __main__ -     Batch size = 16\n"
     ]
    },
    {
     "data": {
      "application/vnd.jupyter.widget-view+json": {
       "model_id": "1b26773e18f14d97abc972f18da1e775",
       "version_major": 2,
       "version_minor": 0
      },
      "text/plain": [
       "Evaluating:   0%|          | 0/73 [00:00<?, ?it/s]"
      ]
     },
     "metadata": {},
     "output_type": "display_data"
    },
    {
     "name": "stderr",
     "output_type": "stream",
     "text": [
      "11/08/2021 16:16:02 - INFO - __main__ -   Saving model checkpoint to ./final_klue_roberta_model_0\n",
      "11/08/2021 16:16:02 - INFO - __main__ -   ***** Eval results *****\n",
      "11/08/2021 16:16:02 - INFO - __main__ -     acc = 0.8791\n",
      "11/08/2021 16:16:02 - INFO - __main__ -     loss = 0.3328\n",
      "11/08/2021 16:16:02 - INFO - __main__ -   ---------------------------------------------------\n"
     ]
    },
    {
     "name": "stdout",
     "output_type": "stream",
     "text": [
      "save new best model acc :  0.8790737564322469\n"
     ]
    },
    {
     "data": {
      "application/vnd.jupyter.widget-view+json": {
       "model_id": "89990ebc3bae4b0eb4accb2174e817b5",
       "version_major": 2,
       "version_minor": 0
      },
      "text/plain": [
       "Iteration:   0%|          | 0/485 [00:00<?, ?it/s]"
      ]
     },
     "metadata": {},
     "output_type": "display_data"
    },
    {
     "name": "stderr",
     "output_type": "stream",
     "text": [
      "11/08/2021 16:23:24 - INFO - __main__ -   ---------------------------------------------------\n",
      "11/08/2021 16:23:24 - INFO - __main__ -   ***** Running evaluation on dev dataset *****\n",
      "11/08/2021 16:23:24 - INFO - __main__ -     Num examples = 1166\n",
      "11/08/2021 16:23:24 - INFO - __main__ -     Batch size = 16\n"
     ]
    },
    {
     "data": {
      "application/vnd.jupyter.widget-view+json": {
       "model_id": "8341c4ab180e42ff97c1c49fbf605fdc",
       "version_major": 2,
       "version_minor": 0
      },
      "text/plain": [
       "Evaluating:   0%|          | 0/73 [00:00<?, ?it/s]"
      ]
     },
     "metadata": {},
     "output_type": "display_data"
    },
    {
     "name": "stderr",
     "output_type": "stream",
     "text": [
      "11/08/2021 16:23:48 - INFO - __main__ -   Saving model checkpoint to ./final_klue_roberta_model_0\n",
      "11/08/2021 16:23:48 - INFO - __main__ -   ***** Eval results *****\n",
      "11/08/2021 16:23:48 - INFO - __main__ -     acc = 0.8962\n",
      "11/08/2021 16:23:48 - INFO - __main__ -     loss = 0.4184\n",
      "11/08/2021 16:23:48 - INFO - __main__ -   ---------------------------------------------------\n"
     ]
    },
    {
     "name": "stdout",
     "output_type": "stream",
     "text": [
      "save new best model acc :  0.8962264150943396\n"
     ]
    },
    {
     "data": {
      "application/vnd.jupyter.widget-view+json": {
       "model_id": "f6f2aa97459e4d4e83d75bb5402ad649",
       "version_major": 2,
       "version_minor": 0
      },
      "text/plain": [
       "Iteration:   0%|          | 0/485 [00:00<?, ?it/s]"
      ]
     },
     "metadata": {},
     "output_type": "display_data"
    },
    {
     "name": "stderr",
     "output_type": "stream",
     "text": [
      "11/08/2021 16:31:10 - INFO - __main__ -   ---------------------------------------------------\n",
      "11/08/2021 16:31:10 - INFO - __main__ -   ***** Running evaluation on dev dataset *****\n",
      "11/08/2021 16:31:10 - INFO - __main__ -     Num examples = 1166\n",
      "11/08/2021 16:31:10 - INFO - __main__ -     Batch size = 16\n"
     ]
    },
    {
     "data": {
      "application/vnd.jupyter.widget-view+json": {
       "model_id": "0324636515d2498593051af77d97b272",
       "version_major": 2,
       "version_minor": 0
      },
      "text/plain": [
       "Evaluating:   0%|          | 0/73 [00:00<?, ?it/s]"
      ]
     },
     "metadata": {},
     "output_type": "display_data"
    },
    {
     "name": "stderr",
     "output_type": "stream",
     "text": [
      "11/08/2021 16:31:32 - INFO - __main__ -   ***** Eval results *****\n",
      "11/08/2021 16:31:32 - INFO - __main__ -     acc = 0.8748\n",
      "11/08/2021 16:31:32 - INFO - __main__ -     loss = 0.5632\n",
      "11/08/2021 16:31:32 - INFO - __main__ -   ---------------------------------------------------\n"
     ]
    },
    {
     "data": {
      "application/vnd.jupyter.widget-view+json": {
       "model_id": "d07a3d61d2794a0092757b3f38d4a9ca",
       "version_major": 2,
       "version_minor": 0
      },
      "text/plain": [
       "Iteration:   0%|          | 0/485 [00:00<?, ?it/s]"
      ]
     },
     "metadata": {},
     "output_type": "display_data"
    },
    {
     "name": "stderr",
     "output_type": "stream",
     "text": [
      "11/08/2021 16:38:53 - INFO - __main__ -   ---------------------------------------------------\n",
      "11/08/2021 16:38:53 - INFO - __main__ -   ***** Running evaluation on dev dataset *****\n",
      "11/08/2021 16:38:53 - INFO - __main__ -     Num examples = 1166\n",
      "11/08/2021 16:38:53 - INFO - __main__ -     Batch size = 16\n"
     ]
    },
    {
     "data": {
      "application/vnd.jupyter.widget-view+json": {
       "model_id": "7989c5bab126438b866641027ce9ec71",
       "version_major": 2,
       "version_minor": 0
      },
      "text/plain": [
       "Evaluating:   0%|          | 0/73 [00:00<?, ?it/s]"
      ]
     },
     "metadata": {},
     "output_type": "display_data"
    },
    {
     "name": "stderr",
     "output_type": "stream",
     "text": [
      "11/08/2021 16:39:15 - INFO - __main__ -   ***** Eval results *****\n",
      "11/08/2021 16:39:15 - INFO - __main__ -     acc = 0.8962\n",
      "11/08/2021 16:39:15 - INFO - __main__ -     loss = 0.6435\n",
      "11/08/2021 16:39:15 - INFO - __main__ -   ---------------------------------------------------\n"
     ]
    },
    {
     "data": {
      "application/vnd.jupyter.widget-view+json": {
       "model_id": "6a0f6eb3a1814c00ae3cdf6874ff908a",
       "version_major": 2,
       "version_minor": 0
      },
      "text/plain": [
       "Iteration:   0%|          | 0/485 [00:00<?, ?it/s]"
      ]
     },
     "metadata": {},
     "output_type": "display_data"
    },
    {
     "name": "stderr",
     "output_type": "stream",
     "text": [
      "11/08/2021 16:41:45 - INFO - __main__ -     global steps = 1292\n",
      "11/08/2021 16:41:45 - INFO - __main__ -     global steps = 1292\n",
      "11/08/2021 16:46:36 - INFO - __main__ -   ---------------------------------------------------\n",
      "11/08/2021 16:46:36 - INFO - __main__ -   ***** Running evaluation on dev dataset *****\n",
      "11/08/2021 16:46:36 - INFO - __main__ -     Num examples = 1166\n",
      "11/08/2021 16:46:36 - INFO - __main__ -     Batch size = 16\n"
     ]
    },
    {
     "data": {
      "application/vnd.jupyter.widget-view+json": {
       "model_id": "80b38a91ad69466caafb88f2dcf30ca9",
       "version_major": 2,
       "version_minor": 0
      },
      "text/plain": [
       "Evaluating:   0%|          | 0/73 [00:00<?, ?it/s]"
      ]
     },
     "metadata": {},
     "output_type": "display_data"
    },
    {
     "name": "stderr",
     "output_type": "stream",
     "text": [
      "11/08/2021 16:47:02 - INFO - __main__ -   Saving model checkpoint to ./final_klue_roberta_model_0\n",
      "11/08/2021 16:47:02 - INFO - __main__ -   ***** Eval results *****\n",
      "11/08/2021 16:47:02 - INFO - __main__ -     acc = 0.9065\n",
      "11/08/2021 16:47:02 - INFO - __main__ -     loss = 0.6185\n",
      "11/08/2021 16:47:02 - INFO - __main__ -   ---------------------------------------------------\n"
     ]
    },
    {
     "name": "stdout",
     "output_type": "stream",
     "text": [
      "save new best model acc :  0.9065180102915952\n"
     ]
    },
    {
     "data": {
      "application/vnd.jupyter.widget-view+json": {
       "model_id": "67393dffee99407881f2dc2344894c7e",
       "version_major": 2,
       "version_minor": 0
      },
      "text/plain": [
       "Iteration:   0%|          | 0/485 [00:00<?, ?it/s]"
      ]
     },
     "metadata": {},
     "output_type": "display_data"
    },
    {
     "name": "stderr",
     "output_type": "stream",
     "text": [
      "11/08/2021 16:54:23 - INFO - __main__ -   ---------------------------------------------------\n",
      "11/08/2021 16:54:23 - INFO - __main__ -   ***** Running evaluation on dev dataset *****\n",
      "11/08/2021 16:54:23 - INFO - __main__ -     Num examples = 1166\n",
      "11/08/2021 16:54:23 - INFO - __main__ -     Batch size = 16\n"
     ]
    },
    {
     "data": {
      "application/vnd.jupyter.widget-view+json": {
       "model_id": "1a2b4f608126430495edcbbfeb6ae118",
       "version_major": 2,
       "version_minor": 0
      },
      "text/plain": [
       "Evaluating:   0%|          | 0/73 [00:00<?, ?it/s]"
      ]
     },
     "metadata": {},
     "output_type": "display_data"
    },
    {
     "name": "stderr",
     "output_type": "stream",
     "text": [
      "11/08/2021 16:54:47 - INFO - __main__ -   Saving model checkpoint to ./final_klue_roberta_model_0\n",
      "11/08/2021 16:54:47 - INFO - __main__ -   ***** Eval results *****\n",
      "11/08/2021 16:54:47 - INFO - __main__ -     acc = 0.9108\n",
      "11/08/2021 16:54:47 - INFO - __main__ -     loss = 0.6026\n",
      "11/08/2021 16:54:47 - INFO - __main__ -   ---------------------------------------------------\n"
     ]
    },
    {
     "name": "stdout",
     "output_type": "stream",
     "text": [
      "save new best model acc :  0.9108061749571184\n"
     ]
    },
    {
     "data": {
      "application/vnd.jupyter.widget-view+json": {
       "model_id": "8bb5a3c552ca4ca9b58292442b6fc73a",
       "version_major": 2,
       "version_minor": 0
      },
      "text/plain": [
       "Iteration:   0%|          | 0/485 [00:00<?, ?it/s]"
      ]
     },
     "metadata": {},
     "output_type": "display_data"
    },
    {
     "name": "stderr",
     "output_type": "stream",
     "text": [
      "11/08/2021 17:02:07 - INFO - __main__ -   ---------------------------------------------------\n",
      "11/08/2021 17:02:07 - INFO - __main__ -   ***** Running evaluation on dev dataset *****\n",
      "11/08/2021 17:02:07 - INFO - __main__ -     Num examples = 1166\n",
      "11/08/2021 17:02:07 - INFO - __main__ -     Batch size = 16\n"
     ]
    },
    {
     "data": {
      "application/vnd.jupyter.widget-view+json": {
       "model_id": "01a17e04c6cd41968e367056aa98dee9",
       "version_major": 2,
       "version_minor": 0
      },
      "text/plain": [
       "Evaluating:   0%|          | 0/73 [00:00<?, ?it/s]"
      ]
     },
     "metadata": {},
     "output_type": "display_data"
    },
    {
     "name": "stderr",
     "output_type": "stream",
     "text": [
      "11/08/2021 17:02:31 - INFO - __main__ -   Saving model checkpoint to ./final_klue_roberta_model_0\n",
      "11/08/2021 17:02:31 - INFO - __main__ -   ***** Eval results *****\n",
      "11/08/2021 17:02:31 - INFO - __main__ -     acc = 0.9168\n",
      "11/08/2021 17:02:31 - INFO - __main__ -     loss = 0.6405\n",
      "11/08/2021 17:02:31 - INFO - __main__ -   ---------------------------------------------------\n"
     ]
    },
    {
     "name": "stdout",
     "output_type": "stream",
     "text": [
      "save new best model acc :  0.9168096054888508\n"
     ]
    },
    {
     "data": {
      "application/vnd.jupyter.widget-view+json": {
       "model_id": "ea797656990e4acb993c1bac6af4d8b8",
       "version_major": 2,
       "version_minor": 0
      },
      "text/plain": [
       "Iteration:   0%|          | 0/485 [00:00<?, ?it/s]"
      ]
     },
     "metadata": {},
     "output_type": "display_data"
    },
    {
     "name": "stderr",
     "output_type": "stream",
     "text": [
      "11/08/2021 17:09:52 - INFO - __main__ -   ---------------------------------------------------\n",
      "11/08/2021 17:09:52 - INFO - __main__ -   ***** Running evaluation on dev dataset *****\n",
      "11/08/2021 17:09:52 - INFO - __main__ -     Num examples = 1166\n",
      "11/08/2021 17:09:52 - INFO - __main__ -     Batch size = 16\n"
     ]
    },
    {
     "data": {
      "application/vnd.jupyter.widget-view+json": {
       "model_id": "d4ba905a10c44983a5468e46b2390651",
       "version_major": 2,
       "version_minor": 0
      },
      "text/plain": [
       "Evaluating:   0%|          | 0/73 [00:00<?, ?it/s]"
      ]
     },
     "metadata": {},
     "output_type": "display_data"
    },
    {
     "name": "stderr",
     "output_type": "stream",
     "text": [
      "11/08/2021 17:10:13 - INFO - __main__ -   ***** Eval results *****\n",
      "11/08/2021 17:10:13 - INFO - __main__ -     acc = 0.9142\n",
      "11/08/2021 17:10:13 - INFO - __main__ -     loss = 0.6882\n",
      "11/08/2021 17:10:13 - INFO - __main__ -   ---------------------------------------------------\n"
     ]
    },
    {
     "data": {
      "application/vnd.jupyter.widget-view+json": {
       "model_id": "c0e2d67de0fc42b48e98af0080a5292b",
       "version_major": 2,
       "version_minor": 0
      },
      "text/plain": [
       "Iteration:   0%|          | 0/485 [00:00<?, ?it/s]"
      ]
     },
     "metadata": {},
     "output_type": "display_data"
    },
    {
     "name": "stderr",
     "output_type": "stream",
     "text": [
      "11/08/2021 17:17:34 - INFO - __main__ -   ---------------------------------------------------\n",
      "11/08/2021 17:17:34 - INFO - __main__ -   ***** Running evaluation on dev dataset *****\n",
      "11/08/2021 17:17:34 - INFO - __main__ -     Num examples = 1166\n",
      "11/08/2021 17:17:34 - INFO - __main__ -     Batch size = 16\n"
     ]
    },
    {
     "data": {
      "application/vnd.jupyter.widget-view+json": {
       "model_id": "034c423097cc4573ad47779846875702",
       "version_major": 2,
       "version_minor": 0
      },
      "text/plain": [
       "Evaluating:   0%|          | 0/73 [00:00<?, ?it/s]"
      ]
     },
     "metadata": {},
     "output_type": "display_data"
    },
    {
     "name": "stderr",
     "output_type": "stream",
     "text": [
      "11/08/2021 17:17:56 - INFO - __main__ -   ***** Eval results *****\n",
      "11/08/2021 17:17:56 - INFO - __main__ -     acc = 0.9151\n",
      "11/08/2021 17:17:56 - INFO - __main__ -     loss = 0.6966\n",
      "11/08/2021 17:17:56 - INFO - __main__ -   ---------------------------------------------------\n",
      "11/08/2021 17:17:58 - INFO - __main__ -   Saving model checkpoint to ./rbt_model0\n",
      "11/08/2021 17:17:58 - INFO - __main__ -   ***** Running evaluation on test dataset *****\n",
      "11/08/2021 17:17:58 - INFO - __main__ -     Batch size = 16\n"
     ]
    },
    {
     "name": "stdout",
     "output_type": "stream",
     "text": [
      "Save last model\n"
     ]
    },
    {
     "data": {
      "application/vnd.jupyter.widget-view+json": {
       "model_id": "6399ed206a3549d7925e5d0eb4d62cb0",
       "version_major": 2,
       "version_minor": 0
      },
      "text/plain": [
       "Predicting:   0%|          | 0/78 [00:00<?, ?it/s]"
      ]
     },
     "metadata": {},
     "output_type": "display_data"
    },
    {
     "data": {
      "application/vnd.jupyter.widget-view+json": {
       "model_id": "5bc749f1c0d545a08e4bba75b4232cb4",
       "version_major": 2,
       "version_minor": 0
      },
      "text/plain": [
       "  0%|          | 0/7748 [00:00<?, ?it/s]"
      ]
     },
     "metadata": {},
     "output_type": "display_data"
    },
    {
     "name": "stdout",
     "output_type": "stream",
     "text": [
      "228\n"
     ]
    },
    {
     "data": {
      "application/vnd.jupyter.widget-view+json": {
       "model_id": "d4006967da3c4caab638a27ddaa74c6e",
       "version_major": 2,
       "version_minor": 0
      },
      "text/plain": [
       "  0%|          | 0/1166 [00:00<?, ?it/s]"
      ]
     },
     "metadata": {},
     "output_type": "display_data"
    },
    {
     "name": "stdout",
     "output_type": "stream",
     "text": [
      "200\n"
     ]
    },
    {
     "name": "stderr",
     "output_type": "stream",
     "text": [
      "Some weights of the model checkpoint at klue/roberta-large were not used when initializing RobertaModel: ['lm_head.dense.bias', 'lm_head.decoder.bias', 'lm_head.layer_norm.weight', 'lm_head.dense.weight', 'lm_head.layer_norm.bias', 'lm_head.bias', 'lm_head.decoder.weight']\n",
      "- This IS expected if you are initializing RobertaModel from the checkpoint of a model trained on another task or with another architecture (e.g. initializing a BertForSequenceClassification model from a BertForPreTraining model).\n",
      "- This IS NOT expected if you are initializing RobertaModel from the checkpoint of a model that you expect to be exactly identical (initializing a BertForSequenceClassification model from a BertForSequenceClassification model).\n",
      "Some weights of RobertaModel were not initialized from the model checkpoint at klue/roberta-large and are newly initialized: ['roberta.pooler.dense.bias', 'roberta.pooler.dense.weight']\n",
      "You should probably TRAIN this model on a down-stream task to be able to use it for predictions and inference.\n",
      "11/08/2021 17:18:34 - INFO - __main__ -   ***** Running training *****\n",
      "11/08/2021 17:18:34 - INFO - __main__ -     Num examples = 7748\n",
      "11/08/2021 17:18:34 - INFO - __main__ -     Num Epochs = 10\n",
      "11/08/2021 17:18:34 - INFO - __main__ -     Total train batch size = 16\n",
      "11/08/2021 17:18:34 - INFO - __main__ -     Gradient Accumulation steps = 2\n",
      "11/08/2021 17:18:34 - INFO - __main__ -     Total optimization steps = 2420\n",
      "11/08/2021 17:18:34 - INFO - __main__ -     Logging steps = 1292\n",
      "11/08/2021 17:18:34 - INFO - __main__ -     Save steps = 2584\n"
     ]
    },
    {
     "data": {
      "application/vnd.jupyter.widget-view+json": {
       "model_id": "9756326ffb2a4714a07fb06550999768",
       "version_major": 2,
       "version_minor": 0
      },
      "text/plain": [
       "Epoch:   0%|          | 0/10 [00:00<?, ?it/s]"
      ]
     },
     "metadata": {},
     "output_type": "display_data"
    },
    {
     "data": {
      "application/vnd.jupyter.widget-view+json": {
       "model_id": "365b4ae3c07d4c2e9fe6306fd445b0fb",
       "version_major": 2,
       "version_minor": 0
      },
      "text/plain": [
       "Iteration:   0%|          | 0/485 [00:00<?, ?it/s]"
      ]
     },
     "metadata": {},
     "output_type": "display_data"
    },
    {
     "name": "stderr",
     "output_type": "stream",
     "text": [
      "11/08/2021 17:18:34 - INFO - __main__ -     global steps = 0\n",
      "11/08/2021 17:25:55 - INFO - __main__ -   ---------------------------------------------------\n",
      "11/08/2021 17:25:55 - INFO - __main__ -   ***** Running evaluation on dev dataset *****\n",
      "11/08/2021 17:25:55 - INFO - __main__ -     Num examples = 1166\n",
      "11/08/2021 17:25:55 - INFO - __main__ -     Batch size = 16\n"
     ]
    },
    {
     "data": {
      "application/vnd.jupyter.widget-view+json": {
       "model_id": "5d415c90f7a34c639be6be97015890f2",
       "version_major": 2,
       "version_minor": 0
      },
      "text/plain": [
       "Evaluating:   0%|          | 0/73 [00:00<?, ?it/s]"
      ]
     },
     "metadata": {},
     "output_type": "display_data"
    },
    {
     "name": "stderr",
     "output_type": "stream",
     "text": [
      "11/08/2021 17:26:19 - INFO - __main__ -   Saving model checkpoint to ./final_klue_roberta_model_1\n",
      "11/08/2021 17:26:19 - INFO - __main__ -   ***** Eval results *****\n",
      "11/08/2021 17:26:19 - INFO - __main__ -     acc = 0.8293\n",
      "11/08/2021 17:26:19 - INFO - __main__ -     loss = 0.4076\n",
      "11/08/2021 17:26:19 - INFO - __main__ -   ---------------------------------------------------\n"
     ]
    },
    {
     "name": "stdout",
     "output_type": "stream",
     "text": [
      "save new best model acc :  0.8293310463121784\n"
     ]
    },
    {
     "data": {
      "application/vnd.jupyter.widget-view+json": {
       "model_id": "241dff622b3d4f68a7275501b71be410",
       "version_major": 2,
       "version_minor": 0
      },
      "text/plain": [
       "Iteration:   0%|          | 0/485 [00:00<?, ?it/s]"
      ]
     },
     "metadata": {},
     "output_type": "display_data"
    },
    {
     "name": "stderr",
     "output_type": "stream",
     "text": [
      "11/08/2021 17:33:41 - INFO - __main__ -   ---------------------------------------------------\n",
      "11/08/2021 17:33:41 - INFO - __main__ -   ***** Running evaluation on dev dataset *****\n",
      "11/08/2021 17:33:41 - INFO - __main__ -     Num examples = 1166\n",
      "11/08/2021 17:33:41 - INFO - __main__ -     Batch size = 16\n"
     ]
    },
    {
     "data": {
      "application/vnd.jupyter.widget-view+json": {
       "model_id": "65069463740f416091bd5a316a35bd77",
       "version_major": 2,
       "version_minor": 0
      },
      "text/plain": [
       "Evaluating:   0%|          | 0/73 [00:00<?, ?it/s]"
      ]
     },
     "metadata": {},
     "output_type": "display_data"
    },
    {
     "name": "stderr",
     "output_type": "stream",
     "text": [
      "11/08/2021 17:34:06 - INFO - __main__ -   Saving model checkpoint to ./final_klue_roberta_model_1\n",
      "11/08/2021 17:34:06 - INFO - __main__ -   ***** Eval results *****\n",
      "11/08/2021 17:34:06 - INFO - __main__ -     acc = 0.9074\n",
      "11/08/2021 17:34:06 - INFO - __main__ -     loss = 0.2637\n",
      "11/08/2021 17:34:06 - INFO - __main__ -   ---------------------------------------------------\n"
     ]
    },
    {
     "name": "stdout",
     "output_type": "stream",
     "text": [
      "save new best model acc :  0.9073756432246999\n"
     ]
    },
    {
     "data": {
      "application/vnd.jupyter.widget-view+json": {
       "model_id": "1a47240a367d4fc6bf5c67182b88ba06",
       "version_major": 2,
       "version_minor": 0
      },
      "text/plain": [
       "Iteration:   0%|          | 0/485 [00:00<?, ?it/s]"
      ]
     },
     "metadata": {},
     "output_type": "display_data"
    },
    {
     "name": "stderr",
     "output_type": "stream",
     "text": [
      "11/08/2021 17:41:28 - INFO - __main__ -   ---------------------------------------------------\n",
      "11/08/2021 17:41:28 - INFO - __main__ -   ***** Running evaluation on dev dataset *****\n",
      "11/08/2021 17:41:28 - INFO - __main__ -     Num examples = 1166\n",
      "11/08/2021 17:41:28 - INFO - __main__ -     Batch size = 16\n"
     ]
    },
    {
     "data": {
      "application/vnd.jupyter.widget-view+json": {
       "model_id": "4a34db3e94824796b38a28220f6e02c1",
       "version_major": 2,
       "version_minor": 0
      },
      "text/plain": [
       "Evaluating:   0%|          | 0/73 [00:00<?, ?it/s]"
      ]
     },
     "metadata": {},
     "output_type": "display_data"
    },
    {
     "name": "stderr",
     "output_type": "stream",
     "text": [
      "11/08/2021 17:41:50 - INFO - __main__ -   ***** Eval results *****\n",
      "11/08/2021 17:41:50 - INFO - __main__ -     acc = 0.9014\n",
      "11/08/2021 17:41:50 - INFO - __main__ -     loss = 0.3822\n",
      "11/08/2021 17:41:50 - INFO - __main__ -   ---------------------------------------------------\n"
     ]
    },
    {
     "data": {
      "application/vnd.jupyter.widget-view+json": {
       "model_id": "d28bd5aa50164bbab2127ad6cad0306d",
       "version_major": 2,
       "version_minor": 0
      },
      "text/plain": [
       "Iteration:   0%|          | 0/485 [00:00<?, ?it/s]"
      ]
     },
     "metadata": {},
     "output_type": "display_data"
    },
    {
     "name": "stderr",
     "output_type": "stream",
     "text": [
      "11/08/2021 17:49:11 - INFO - __main__ -   ---------------------------------------------------\n",
      "11/08/2021 17:49:11 - INFO - __main__ -   ***** Running evaluation on dev dataset *****\n",
      "11/08/2021 17:49:11 - INFO - __main__ -     Num examples = 1166\n",
      "11/08/2021 17:49:11 - INFO - __main__ -     Batch size = 16\n"
     ]
    },
    {
     "data": {
      "application/vnd.jupyter.widget-view+json": {
       "model_id": "bf8adff13ec74c85aed993ea860a70da",
       "version_major": 2,
       "version_minor": 0
      },
      "text/plain": [
       "Evaluating:   0%|          | 0/73 [00:00<?, ?it/s]"
      ]
     },
     "metadata": {},
     "output_type": "display_data"
    },
    {
     "name": "stderr",
     "output_type": "stream",
     "text": [
      "11/08/2021 17:49:33 - INFO - __main__ -   ***** Eval results *****\n",
      "11/08/2021 17:49:33 - INFO - __main__ -     acc = 0.9048\n",
      "11/08/2021 17:49:33 - INFO - __main__ -     loss = 0.4517\n",
      "11/08/2021 17:49:33 - INFO - __main__ -   ---------------------------------------------------\n"
     ]
    },
    {
     "data": {
      "application/vnd.jupyter.widget-view+json": {
       "model_id": "92f5b7c96031429ab30ab59888995499",
       "version_major": 2,
       "version_minor": 0
      },
      "text/plain": [
       "Iteration:   0%|          | 0/485 [00:00<?, ?it/s]"
      ]
     },
     "metadata": {},
     "output_type": "display_data"
    },
    {
     "name": "stderr",
     "output_type": "stream",
     "text": [
      "11/08/2021 17:56:55 - INFO - __main__ -   ---------------------------------------------------\n",
      "11/08/2021 17:56:55 - INFO - __main__ -   ***** Running evaluation on dev dataset *****\n",
      "11/08/2021 17:56:55 - INFO - __main__ -     Num examples = 1166\n",
      "11/08/2021 17:56:55 - INFO - __main__ -     Batch size = 16\n"
     ]
    },
    {
     "data": {
      "application/vnd.jupyter.widget-view+json": {
       "model_id": "b60c5a3c50644eafba2c9f226591621b",
       "version_major": 2,
       "version_minor": 0
      },
      "text/plain": [
       "Evaluating:   0%|          | 0/73 [00:00<?, ?it/s]"
      ]
     },
     "metadata": {},
     "output_type": "display_data"
    },
    {
     "name": "stderr",
     "output_type": "stream",
     "text": [
      "11/08/2021 17:57:20 - INFO - __main__ -   Saving model checkpoint to ./final_klue_roberta_model_1\n",
      "11/08/2021 17:57:20 - INFO - __main__ -   ***** Eval results *****\n",
      "11/08/2021 17:57:20 - INFO - __main__ -     acc = 0.9091\n",
      "11/08/2021 17:57:20 - INFO - __main__ -     loss = 0.5359\n",
      "11/08/2021 17:57:20 - INFO - __main__ -   ---------------------------------------------------\n"
     ]
    },
    {
     "name": "stdout",
     "output_type": "stream",
     "text": [
      "save new best model acc :  0.9090909090909091\n"
     ]
    },
    {
     "data": {
      "application/vnd.jupyter.widget-view+json": {
       "model_id": "f2752973f1e8406cb69ffeb14be97a67",
       "version_major": 2,
       "version_minor": 0
      },
      "text/plain": [
       "Iteration:   0%|          | 0/485 [00:00<?, ?it/s]"
      ]
     },
     "metadata": {},
     "output_type": "display_data"
    },
    {
     "name": "stderr",
     "output_type": "stream",
     "text": [
      "11/08/2021 17:59:49 - INFO - __main__ -     global steps = 1292\n",
      "11/08/2021 17:59:50 - INFO - __main__ -     global steps = 1292\n",
      "11/08/2021 18:04:41 - INFO - __main__ -   ---------------------------------------------------\n",
      "11/08/2021 18:04:41 - INFO - __main__ -   ***** Running evaluation on dev dataset *****\n",
      "11/08/2021 18:04:41 - INFO - __main__ -     Num examples = 1166\n",
      "11/08/2021 18:04:41 - INFO - __main__ -     Batch size = 16\n"
     ]
    },
    {
     "data": {
      "application/vnd.jupyter.widget-view+json": {
       "model_id": "0d00a5eaea6441e5bdcf72fb540fe619",
       "version_major": 2,
       "version_minor": 0
      },
      "text/plain": [
       "Evaluating:   0%|          | 0/73 [00:00<?, ?it/s]"
      ]
     },
     "metadata": {},
     "output_type": "display_data"
    },
    {
     "name": "stderr",
     "output_type": "stream",
     "text": [
      "11/08/2021 18:05:07 - INFO - __main__ -   Saving model checkpoint to ./final_klue_roberta_model_1\n",
      "11/08/2021 18:05:07 - INFO - __main__ -   ***** Eval results *****\n",
      "11/08/2021 18:05:07 - INFO - __main__ -     acc = 0.9108\n",
      "11/08/2021 18:05:07 - INFO - __main__ -     loss = 0.5826\n",
      "11/08/2021 18:05:07 - INFO - __main__ -   ---------------------------------------------------\n"
     ]
    },
    {
     "name": "stdout",
     "output_type": "stream",
     "text": [
      "save new best model acc :  0.9108061749571184\n"
     ]
    },
    {
     "data": {
      "application/vnd.jupyter.widget-view+json": {
       "model_id": "7b65a48a03274ba9bd288377050af139",
       "version_major": 2,
       "version_minor": 0
      },
      "text/plain": [
       "Iteration:   0%|          | 0/485 [00:00<?, ?it/s]"
      ]
     },
     "metadata": {},
     "output_type": "display_data"
    },
    {
     "name": "stderr",
     "output_type": "stream",
     "text": [
      "11/08/2021 18:12:28 - INFO - __main__ -   ---------------------------------------------------\n",
      "11/08/2021 18:12:28 - INFO - __main__ -   ***** Running evaluation on dev dataset *****\n",
      "11/08/2021 18:12:28 - INFO - __main__ -     Num examples = 1166\n",
      "11/08/2021 18:12:28 - INFO - __main__ -     Batch size = 16\n"
     ]
    },
    {
     "data": {
      "application/vnd.jupyter.widget-view+json": {
       "model_id": "5f1cefca36c64b0892d749f905073bba",
       "version_major": 2,
       "version_minor": 0
      },
      "text/plain": [
       "Evaluating:   0%|          | 0/73 [00:00<?, ?it/s]"
      ]
     },
     "metadata": {},
     "output_type": "display_data"
    },
    {
     "name": "stderr",
     "output_type": "stream",
     "text": [
      "11/08/2021 18:12:50 - INFO - __main__ -   ***** Eval results *****\n",
      "11/08/2021 18:12:50 - INFO - __main__ -     acc = 0.9091\n",
      "11/08/2021 18:12:50 - INFO - __main__ -     loss = 0.6127\n",
      "11/08/2021 18:12:50 - INFO - __main__ -   ---------------------------------------------------\n"
     ]
    },
    {
     "data": {
      "application/vnd.jupyter.widget-view+json": {
       "model_id": "1da4567b3e904cc3ac05b0320688c003",
       "version_major": 2,
       "version_minor": 0
      },
      "text/plain": [
       "Iteration:   0%|          | 0/485 [00:00<?, ?it/s]"
      ]
     },
     "metadata": {},
     "output_type": "display_data"
    },
    {
     "name": "stderr",
     "output_type": "stream",
     "text": [
      "11/08/2021 18:20:10 - INFO - __main__ -   ---------------------------------------------------\n",
      "11/08/2021 18:20:10 - INFO - __main__ -   ***** Running evaluation on dev dataset *****\n",
      "11/08/2021 18:20:10 - INFO - __main__ -     Num examples = 1166\n",
      "11/08/2021 18:20:10 - INFO - __main__ -     Batch size = 16\n"
     ]
    },
    {
     "data": {
      "application/vnd.jupyter.widget-view+json": {
       "model_id": "3344fb6fa8204281afad96e894c9c736",
       "version_major": 2,
       "version_minor": 0
      },
      "text/plain": [
       "Evaluating:   0%|          | 0/73 [00:00<?, ?it/s]"
      ]
     },
     "metadata": {},
     "output_type": "display_data"
    },
    {
     "name": "stderr",
     "output_type": "stream",
     "text": [
      "11/08/2021 18:20:35 - INFO - __main__ -   Saving model checkpoint to ./final_klue_roberta_model_1\n",
      "11/08/2021 18:20:35 - INFO - __main__ -   ***** Eval results *****\n",
      "11/08/2021 18:20:35 - INFO - __main__ -     acc = 0.9177\n",
      "11/08/2021 18:20:35 - INFO - __main__ -     loss = 0.6221\n",
      "11/08/2021 18:20:35 - INFO - __main__ -   ---------------------------------------------------\n"
     ]
    },
    {
     "name": "stdout",
     "output_type": "stream",
     "text": [
      "save new best model acc :  0.9176672384219554\n"
     ]
    },
    {
     "data": {
      "application/vnd.jupyter.widget-view+json": {
       "model_id": "17d6e14a1b374f2dae57ed5dbf9663f2",
       "version_major": 2,
       "version_minor": 0
      },
      "text/plain": [
       "Iteration:   0%|          | 0/485 [00:00<?, ?it/s]"
      ]
     },
     "metadata": {},
     "output_type": "display_data"
    },
    {
     "name": "stderr",
     "output_type": "stream",
     "text": [
      "11/08/2021 18:27:55 - INFO - __main__ -   ---------------------------------------------------\n",
      "11/08/2021 18:27:55 - INFO - __main__ -   ***** Running evaluation on dev dataset *****\n",
      "11/08/2021 18:27:55 - INFO - __main__ -     Num examples = 1166\n",
      "11/08/2021 18:27:55 - INFO - __main__ -     Batch size = 16\n"
     ]
    },
    {
     "data": {
      "application/vnd.jupyter.widget-view+json": {
       "model_id": "f4fa8c67580d4ded9459caf2216c5829",
       "version_major": 2,
       "version_minor": 0
      },
      "text/plain": [
       "Evaluating:   0%|          | 0/73 [00:00<?, ?it/s]"
      ]
     },
     "metadata": {},
     "output_type": "display_data"
    },
    {
     "name": "stderr",
     "output_type": "stream",
     "text": [
      "11/08/2021 18:28:21 - INFO - __main__ -   Saving model checkpoint to ./final_klue_roberta_model_1\n",
      "11/08/2021 18:28:21 - INFO - __main__ -   ***** Eval results *****\n",
      "11/08/2021 18:28:21 - INFO - __main__ -     acc = 0.9194\n",
      "11/08/2021 18:28:21 - INFO - __main__ -     loss = 0.6359\n",
      "11/08/2021 18:28:21 - INFO - __main__ -   ---------------------------------------------------\n"
     ]
    },
    {
     "name": "stdout",
     "output_type": "stream",
     "text": [
      "save new best model acc :  0.9193825042881647\n"
     ]
    },
    {
     "data": {
      "application/vnd.jupyter.widget-view+json": {
       "model_id": "c69ce2d73e0a454c8d6290a1f2563dd0",
       "version_major": 2,
       "version_minor": 0
      },
      "text/plain": [
       "Iteration:   0%|          | 0/485 [00:00<?, ?it/s]"
      ]
     },
     "metadata": {},
     "output_type": "display_data"
    },
    {
     "name": "stderr",
     "output_type": "stream",
     "text": [
      "11/08/2021 18:35:41 - INFO - __main__ -   ---------------------------------------------------\n",
      "11/08/2021 18:35:41 - INFO - __main__ -   ***** Running evaluation on dev dataset *****\n",
      "11/08/2021 18:35:41 - INFO - __main__ -     Num examples = 1166\n",
      "11/08/2021 18:35:41 - INFO - __main__ -     Batch size = 16\n"
     ]
    },
    {
     "data": {
      "application/vnd.jupyter.widget-view+json": {
       "model_id": "ffaace81e87c4cc288f0af7be828f4d8",
       "version_major": 2,
       "version_minor": 0
      },
      "text/plain": [
       "Evaluating:   0%|          | 0/73 [00:00<?, ?it/s]"
      ]
     },
     "metadata": {},
     "output_type": "display_data"
    },
    {
     "name": "stderr",
     "output_type": "stream",
     "text": [
      "11/08/2021 18:36:03 - INFO - __main__ -   ***** Eval results *****\n",
      "11/08/2021 18:36:03 - INFO - __main__ -     acc = 0.9185\n",
      "11/08/2021 18:36:03 - INFO - __main__ -     loss = 0.6645\n",
      "11/08/2021 18:36:03 - INFO - __main__ -   ---------------------------------------------------\n",
      "11/08/2021 18:36:05 - INFO - __main__ -   Saving model checkpoint to ./rbt_model1\n",
      "11/08/2021 18:36:05 - INFO - __main__ -   ***** Running evaluation on test dataset *****\n",
      "11/08/2021 18:36:05 - INFO - __main__ -     Batch size = 16\n"
     ]
    },
    {
     "name": "stdout",
     "output_type": "stream",
     "text": [
      "Save last model\n"
     ]
    },
    {
     "data": {
      "application/vnd.jupyter.widget-view+json": {
       "model_id": "173ed883b6e041fc8f3e0e0921aa8384",
       "version_major": 2,
       "version_minor": 0
      },
      "text/plain": [
       "Predicting:   0%|          | 0/78 [00:00<?, ?it/s]"
      ]
     },
     "metadata": {},
     "output_type": "display_data"
    },
    {
     "data": {
      "application/vnd.jupyter.widget-view+json": {
       "model_id": "c04a80e86e6d41799d6cde5e184e58fb",
       "version_major": 2,
       "version_minor": 0
      },
      "text/plain": [
       "  0%|          | 0/7748 [00:00<?, ?it/s]"
      ]
     },
     "metadata": {},
     "output_type": "display_data"
    },
    {
     "name": "stdout",
     "output_type": "stream",
     "text": [
      "228\n"
     ]
    },
    {
     "data": {
      "application/vnd.jupyter.widget-view+json": {
       "model_id": "fd9891c096ab4dca9362673ecfedb543",
       "version_major": 2,
       "version_minor": 0
      },
      "text/plain": [
       "  0%|          | 0/1166 [00:00<?, ?it/s]"
      ]
     },
     "metadata": {},
     "output_type": "display_data"
    },
    {
     "name": "stdout",
     "output_type": "stream",
     "text": [
      "200\n"
     ]
    },
    {
     "name": "stderr",
     "output_type": "stream",
     "text": [
      "Some weights of the model checkpoint at klue/roberta-large were not used when initializing RobertaModel: ['lm_head.dense.bias', 'lm_head.decoder.bias', 'lm_head.layer_norm.weight', 'lm_head.dense.weight', 'lm_head.layer_norm.bias', 'lm_head.bias', 'lm_head.decoder.weight']\n",
      "- This IS expected if you are initializing RobertaModel from the checkpoint of a model trained on another task or with another architecture (e.g. initializing a BertForSequenceClassification model from a BertForPreTraining model).\n",
      "- This IS NOT expected if you are initializing RobertaModel from the checkpoint of a model that you expect to be exactly identical (initializing a BertForSequenceClassification model from a BertForSequenceClassification model).\n",
      "Some weights of RobertaModel were not initialized from the model checkpoint at klue/roberta-large and are newly initialized: ['roberta.pooler.dense.bias', 'roberta.pooler.dense.weight']\n",
      "You should probably TRAIN this model on a down-stream task to be able to use it for predictions and inference.\n",
      "11/08/2021 18:36:41 - INFO - __main__ -   ***** Running training *****\n",
      "11/08/2021 18:36:41 - INFO - __main__ -     Num examples = 7748\n",
      "11/08/2021 18:36:41 - INFO - __main__ -     Num Epochs = 10\n",
      "11/08/2021 18:36:41 - INFO - __main__ -     Total train batch size = 16\n",
      "11/08/2021 18:36:41 - INFO - __main__ -     Gradient Accumulation steps = 2\n",
      "11/08/2021 18:36:41 - INFO - __main__ -     Total optimization steps = 2420\n",
      "11/08/2021 18:36:41 - INFO - __main__ -     Logging steps = 1292\n",
      "11/08/2021 18:36:41 - INFO - __main__ -     Save steps = 2584\n"
     ]
    },
    {
     "data": {
      "application/vnd.jupyter.widget-view+json": {
       "model_id": "fda562807c0541c7a3b53d0ef4876671",
       "version_major": 2,
       "version_minor": 0
      },
      "text/plain": [
       "Epoch:   0%|          | 0/10 [00:00<?, ?it/s]"
      ]
     },
     "metadata": {},
     "output_type": "display_data"
    },
    {
     "data": {
      "application/vnd.jupyter.widget-view+json": {
       "model_id": "2c1bff086a9e4793b3a783366783ad7b",
       "version_major": 2,
       "version_minor": 0
      },
      "text/plain": [
       "Iteration:   0%|          | 0/485 [00:00<?, ?it/s]"
      ]
     },
     "metadata": {},
     "output_type": "display_data"
    },
    {
     "name": "stderr",
     "output_type": "stream",
     "text": [
      "11/08/2021 18:36:42 - INFO - __main__ -     global steps = 0\n",
      "11/08/2021 18:44:03 - INFO - __main__ -   ---------------------------------------------------\n",
      "11/08/2021 18:44:03 - INFO - __main__ -   ***** Running evaluation on dev dataset *****\n",
      "11/08/2021 18:44:03 - INFO - __main__ -     Num examples = 1166\n",
      "11/08/2021 18:44:03 - INFO - __main__ -     Batch size = 16\n"
     ]
    },
    {
     "data": {
      "application/vnd.jupyter.widget-view+json": {
       "model_id": "53eb5bb051ed4a91949585edb4deae4d",
       "version_major": 2,
       "version_minor": 0
      },
      "text/plain": [
       "Evaluating:   0%|          | 0/73 [00:00<?, ?it/s]"
      ]
     },
     "metadata": {},
     "output_type": "display_data"
    },
    {
     "name": "stderr",
     "output_type": "stream",
     "text": [
      "11/08/2021 18:44:27 - INFO - __main__ -   Saving model checkpoint to ./final_klue_roberta_model_2\n",
      "11/08/2021 18:44:27 - INFO - __main__ -   ***** Eval results *****\n",
      "11/08/2021 18:44:27 - INFO - __main__ -     acc = 0.8593\n",
      "11/08/2021 18:44:27 - INFO - __main__ -     loss = 0.3523\n",
      "11/08/2021 18:44:27 - INFO - __main__ -   ---------------------------------------------------\n"
     ]
    },
    {
     "name": "stdout",
     "output_type": "stream",
     "text": [
      "save new best model acc :  0.8593481989708405\n"
     ]
    },
    {
     "data": {
      "application/vnd.jupyter.widget-view+json": {
       "model_id": "e23a34b7c0aa45989e6b0281390c661a",
       "version_major": 2,
       "version_minor": 0
      },
      "text/plain": [
       "Iteration:   0%|          | 0/485 [00:00<?, ?it/s]"
      ]
     },
     "metadata": {},
     "output_type": "display_data"
    },
    {
     "name": "stderr",
     "output_type": "stream",
     "text": [
      "11/08/2021 18:51:49 - INFO - __main__ -   ---------------------------------------------------\n",
      "11/08/2021 18:51:49 - INFO - __main__ -   ***** Running evaluation on dev dataset *****\n",
      "11/08/2021 18:51:49 - INFO - __main__ -     Num examples = 1166\n",
      "11/08/2021 18:51:49 - INFO - __main__ -     Batch size = 16\n"
     ]
    },
    {
     "data": {
      "application/vnd.jupyter.widget-view+json": {
       "model_id": "4cd62711674b4235a93a6ee4e4a1de67",
       "version_major": 2,
       "version_minor": 0
      },
      "text/plain": [
       "Evaluating:   0%|          | 0/73 [00:00<?, ?it/s]"
      ]
     },
     "metadata": {},
     "output_type": "display_data"
    },
    {
     "name": "stderr",
     "output_type": "stream",
     "text": [
      "11/08/2021 18:52:14 - INFO - __main__ -   Saving model checkpoint to ./final_klue_roberta_model_2\n",
      "11/08/2021 18:52:14 - INFO - __main__ -   ***** Eval results *****\n",
      "11/08/2021 18:52:14 - INFO - __main__ -     acc = 0.8636\n",
      "11/08/2021 18:52:14 - INFO - __main__ -     loss = 0.3393\n",
      "11/08/2021 18:52:14 - INFO - __main__ -   ---------------------------------------------------\n"
     ]
    },
    {
     "name": "stdout",
     "output_type": "stream",
     "text": [
      "save new best model acc :  0.8636363636363636\n"
     ]
    },
    {
     "data": {
      "application/vnd.jupyter.widget-view+json": {
       "model_id": "f8b3efe0a8e04128b13a351e5b753024",
       "version_major": 2,
       "version_minor": 0
      },
      "text/plain": [
       "Iteration:   0%|          | 0/485 [00:00<?, ?it/s]"
      ]
     },
     "metadata": {},
     "output_type": "display_data"
    },
    {
     "name": "stderr",
     "output_type": "stream",
     "text": [
      "11/08/2021 18:59:36 - INFO - __main__ -   ---------------------------------------------------\n",
      "11/08/2021 18:59:36 - INFO - __main__ -   ***** Running evaluation on dev dataset *****\n",
      "11/08/2021 18:59:36 - INFO - __main__ -     Num examples = 1166\n",
      "11/08/2021 18:59:36 - INFO - __main__ -     Batch size = 16\n"
     ]
    },
    {
     "data": {
      "application/vnd.jupyter.widget-view+json": {
       "model_id": "153c4e1877de4d7f90cf3a408d76b0b2",
       "version_major": 2,
       "version_minor": 0
      },
      "text/plain": [
       "Evaluating:   0%|          | 0/73 [00:00<?, ?it/s]"
      ]
     },
     "metadata": {},
     "output_type": "display_data"
    },
    {
     "name": "stderr",
     "output_type": "stream",
     "text": [
      "11/08/2021 19:00:01 - INFO - __main__ -   Saving model checkpoint to ./final_klue_roberta_model_2\n",
      "11/08/2021 19:00:01 - INFO - __main__ -   ***** Eval results *****\n",
      "11/08/2021 19:00:01 - INFO - __main__ -     acc = 0.8911\n",
      "11/08/2021 19:00:01 - INFO - __main__ -     loss = 0.3768\n",
      "11/08/2021 19:00:01 - INFO - __main__ -   ---------------------------------------------------\n"
     ]
    },
    {
     "name": "stdout",
     "output_type": "stream",
     "text": [
      "save new best model acc :  0.8910806174957119\n"
     ]
    },
    {
     "data": {
      "application/vnd.jupyter.widget-view+json": {
       "model_id": "8ad468c855604d7bae22420192dee57d",
       "version_major": 2,
       "version_minor": 0
      },
      "text/plain": [
       "Iteration:   0%|          | 0/485 [00:00<?, ?it/s]"
      ]
     },
     "metadata": {},
     "output_type": "display_data"
    },
    {
     "name": "stderr",
     "output_type": "stream",
     "text": [
      "11/08/2021 19:07:22 - INFO - __main__ -   ---------------------------------------------------\n",
      "11/08/2021 19:07:22 - INFO - __main__ -   ***** Running evaluation on dev dataset *****\n",
      "11/08/2021 19:07:22 - INFO - __main__ -     Num examples = 1166\n",
      "11/08/2021 19:07:22 - INFO - __main__ -     Batch size = 16\n"
     ]
    },
    {
     "data": {
      "application/vnd.jupyter.widget-view+json": {
       "model_id": "bf7ab1e3678048409040d4a85c4010f6",
       "version_major": 2,
       "version_minor": 0
      },
      "text/plain": [
       "Evaluating:   0%|          | 0/73 [00:00<?, ?it/s]"
      ]
     },
     "metadata": {},
     "output_type": "display_data"
    },
    {
     "name": "stderr",
     "output_type": "stream",
     "text": [
      "11/08/2021 19:07:44 - INFO - __main__ -   ***** Eval results *****\n",
      "11/08/2021 19:07:44 - INFO - __main__ -     acc = 0.8902\n",
      "11/08/2021 19:07:44 - INFO - __main__ -     loss = 0.4245\n",
      "11/08/2021 19:07:44 - INFO - __main__ -   ---------------------------------------------------\n"
     ]
    },
    {
     "data": {
      "application/vnd.jupyter.widget-view+json": {
       "model_id": "8965ef4b6e0a40b398fb10d676aeb9f4",
       "version_major": 2,
       "version_minor": 0
      },
      "text/plain": [
       "Iteration:   0%|          | 0/485 [00:00<?, ?it/s]"
      ]
     },
     "metadata": {},
     "output_type": "display_data"
    },
    {
     "name": "stderr",
     "output_type": "stream",
     "text": [
      "11/08/2021 19:15:05 - INFO - __main__ -   ---------------------------------------------------\n",
      "11/08/2021 19:15:05 - INFO - __main__ -   ***** Running evaluation on dev dataset *****\n",
      "11/08/2021 19:15:05 - INFO - __main__ -     Num examples = 1166\n",
      "11/08/2021 19:15:05 - INFO - __main__ -     Batch size = 16\n"
     ]
    },
    {
     "data": {
      "application/vnd.jupyter.widget-view+json": {
       "model_id": "d4bee8117ab34ee8ac82b43d721c9dc7",
       "version_major": 2,
       "version_minor": 0
      },
      "text/plain": [
       "Evaluating:   0%|          | 0/73 [00:00<?, ?it/s]"
      ]
     },
     "metadata": {},
     "output_type": "display_data"
    },
    {
     "name": "stderr",
     "output_type": "stream",
     "text": [
      "11/08/2021 19:15:29 - INFO - __main__ -   Saving model checkpoint to ./final_klue_roberta_model_2\n",
      "11/08/2021 19:15:29 - INFO - __main__ -   ***** Eval results *****\n",
      "11/08/2021 19:15:29 - INFO - __main__ -     acc = 0.9099\n",
      "11/08/2021 19:15:29 - INFO - __main__ -     loss = 0.4743\n",
      "11/08/2021 19:15:29 - INFO - __main__ -   ---------------------------------------------------\n"
     ]
    },
    {
     "name": "stdout",
     "output_type": "stream",
     "text": [
      "save new best model acc :  0.9099485420240138\n"
     ]
    },
    {
     "data": {
      "application/vnd.jupyter.widget-view+json": {
       "model_id": "193dab0d215b4f4abd2ccc30aee9a95c",
       "version_major": 2,
       "version_minor": 0
      },
      "text/plain": [
       "Iteration:   0%|          | 0/485 [00:00<?, ?it/s]"
      ]
     },
     "metadata": {},
     "output_type": "display_data"
    },
    {
     "name": "stderr",
     "output_type": "stream",
     "text": [
      "11/08/2021 19:17:58 - INFO - __main__ -     global steps = 1292\n",
      "11/08/2021 19:17:59 - INFO - __main__ -     global steps = 1292\n",
      "11/08/2021 19:22:49 - INFO - __main__ -   ---------------------------------------------------\n",
      "11/08/2021 19:22:49 - INFO - __main__ -   ***** Running evaluation on dev dataset *****\n",
      "11/08/2021 19:22:49 - INFO - __main__ -     Num examples = 1166\n",
      "11/08/2021 19:22:49 - INFO - __main__ -     Batch size = 16\n"
     ]
    },
    {
     "data": {
      "application/vnd.jupyter.widget-view+json": {
       "model_id": "967db47536ac43758f479ab29b8a81cf",
       "version_major": 2,
       "version_minor": 0
      },
      "text/plain": [
       "Evaluating:   0%|          | 0/73 [00:00<?, ?it/s]"
      ]
     },
     "metadata": {},
     "output_type": "display_data"
    },
    {
     "name": "stderr",
     "output_type": "stream",
     "text": [
      "11/08/2021 19:23:11 - INFO - __main__ -   ***** Eval results *****\n",
      "11/08/2021 19:23:11 - INFO - __main__ -     acc = 0.9031\n",
      "11/08/2021 19:23:11 - INFO - __main__ -     loss = 0.6194\n",
      "11/08/2021 19:23:11 - INFO - __main__ -   ---------------------------------------------------\n"
     ]
    },
    {
     "data": {
      "application/vnd.jupyter.widget-view+json": {
       "model_id": "41ba78bf50f14cf08b2a31f10ea847e5",
       "version_major": 2,
       "version_minor": 0
      },
      "text/plain": [
       "Iteration:   0%|          | 0/485 [00:00<?, ?it/s]"
      ]
     },
     "metadata": {},
     "output_type": "display_data"
    },
    {
     "name": "stderr",
     "output_type": "stream",
     "text": [
      "11/08/2021 19:30:32 - INFO - __main__ -   ---------------------------------------------------\n",
      "11/08/2021 19:30:32 - INFO - __main__ -   ***** Running evaluation on dev dataset *****\n",
      "11/08/2021 19:30:32 - INFO - __main__ -     Num examples = 1166\n",
      "11/08/2021 19:30:32 - INFO - __main__ -     Batch size = 16\n"
     ]
    },
    {
     "data": {
      "application/vnd.jupyter.widget-view+json": {
       "model_id": "e23afcb5af934e76a928a632d6242bde",
       "version_major": 2,
       "version_minor": 0
      },
      "text/plain": [
       "Evaluating:   0%|          | 0/73 [00:00<?, ?it/s]"
      ]
     },
     "metadata": {},
     "output_type": "display_data"
    },
    {
     "name": "stderr",
     "output_type": "stream",
     "text": [
      "11/08/2021 19:30:54 - INFO - __main__ -   ***** Eval results *****\n",
      "11/08/2021 19:30:54 - INFO - __main__ -     acc = 0.9082\n",
      "11/08/2021 19:30:54 - INFO - __main__ -     loss = 0.6188\n",
      "11/08/2021 19:30:54 - INFO - __main__ -   ---------------------------------------------------\n"
     ]
    },
    {
     "data": {
      "application/vnd.jupyter.widget-view+json": {
       "model_id": "7db4f0c0760645fca121a7e07488d414",
       "version_major": 2,
       "version_minor": 0
      },
      "text/plain": [
       "Iteration:   0%|          | 0/485 [00:00<?, ?it/s]"
      ]
     },
     "metadata": {},
     "output_type": "display_data"
    },
    {
     "name": "stderr",
     "output_type": "stream",
     "text": [
      "11/08/2021 19:38:14 - INFO - __main__ -   ---------------------------------------------------\n",
      "11/08/2021 19:38:14 - INFO - __main__ -   ***** Running evaluation on dev dataset *****\n",
      "11/08/2021 19:38:14 - INFO - __main__ -     Num examples = 1166\n",
      "11/08/2021 19:38:14 - INFO - __main__ -     Batch size = 16\n"
     ]
    },
    {
     "data": {
      "application/vnd.jupyter.widget-view+json": {
       "model_id": "0b2277e08d0e459baa3f95e68071d3bc",
       "version_major": 2,
       "version_minor": 0
      },
      "text/plain": [
       "Evaluating:   0%|          | 0/73 [00:00<?, ?it/s]"
      ]
     },
     "metadata": {},
     "output_type": "display_data"
    },
    {
     "name": "stderr",
     "output_type": "stream",
     "text": [
      "11/08/2021 19:38:36 - INFO - __main__ -   ***** Eval results *****\n",
      "11/08/2021 19:38:36 - INFO - __main__ -     acc = 0.9099\n",
      "11/08/2021 19:38:36 - INFO - __main__ -     loss = 0.6623\n",
      "11/08/2021 19:38:36 - INFO - __main__ -   ---------------------------------------------------\n"
     ]
    },
    {
     "data": {
      "application/vnd.jupyter.widget-view+json": {
       "model_id": "86192c126ac04a15ab1f19065e07f948",
       "version_major": 2,
       "version_minor": 0
      },
      "text/plain": [
       "Iteration:   0%|          | 0/485 [00:00<?, ?it/s]"
      ]
     },
     "metadata": {},
     "output_type": "display_data"
    },
    {
     "name": "stderr",
     "output_type": "stream",
     "text": [
      "11/08/2021 19:45:57 - INFO - __main__ -   ---------------------------------------------------\n",
      "11/08/2021 19:45:57 - INFO - __main__ -   ***** Running evaluation on dev dataset *****\n",
      "11/08/2021 19:45:57 - INFO - __main__ -     Num examples = 1166\n",
      "11/08/2021 19:45:57 - INFO - __main__ -     Batch size = 16\n"
     ]
    },
    {
     "data": {
      "application/vnd.jupyter.widget-view+json": {
       "model_id": "0c62634fceb74f138f4df388da68047e",
       "version_major": 2,
       "version_minor": 0
      },
      "text/plain": [
       "Evaluating:   0%|          | 0/73 [00:00<?, ?it/s]"
      ]
     },
     "metadata": {},
     "output_type": "display_data"
    },
    {
     "name": "stderr",
     "output_type": "stream",
     "text": [
      "11/08/2021 19:46:18 - INFO - __main__ -   ***** Eval results *****\n",
      "11/08/2021 19:46:18 - INFO - __main__ -     acc = 0.9057\n",
      "11/08/2021 19:46:18 - INFO - __main__ -     loss = 0.7166\n",
      "11/08/2021 19:46:18 - INFO - __main__ -   ---------------------------------------------------\n"
     ]
    },
    {
     "data": {
      "application/vnd.jupyter.widget-view+json": {
       "model_id": "ce97bbcce5644118ad3d738297967874",
       "version_major": 2,
       "version_minor": 0
      },
      "text/plain": [
       "Iteration:   0%|          | 0/485 [00:00<?, ?it/s]"
      ]
     },
     "metadata": {},
     "output_type": "display_data"
    },
    {
     "name": "stderr",
     "output_type": "stream",
     "text": [
      "11/08/2021 19:53:39 - INFO - __main__ -   ---------------------------------------------------\n",
      "11/08/2021 19:53:39 - INFO - __main__ -   ***** Running evaluation on dev dataset *****\n",
      "11/08/2021 19:53:39 - INFO - __main__ -     Num examples = 1166\n",
      "11/08/2021 19:53:39 - INFO - __main__ -     Batch size = 16\n"
     ]
    },
    {
     "data": {
      "application/vnd.jupyter.widget-view+json": {
       "model_id": "42f7032df75c4e0daa5c537db978a8f9",
       "version_major": 2,
       "version_minor": 0
      },
      "text/plain": [
       "Evaluating:   0%|          | 0/73 [00:00<?, ?it/s]"
      ]
     },
     "metadata": {},
     "output_type": "display_data"
    },
    {
     "name": "stderr",
     "output_type": "stream",
     "text": [
      "11/08/2021 19:54:01 - INFO - __main__ -   ***** Eval results *****\n",
      "11/08/2021 19:54:01 - INFO - __main__ -     acc = 0.9099\n",
      "11/08/2021 19:54:01 - INFO - __main__ -     loss = 0.7126\n",
      "11/08/2021 19:54:01 - INFO - __main__ -   ---------------------------------------------------\n",
      "11/08/2021 19:54:03 - INFO - __main__ -   Saving model checkpoint to ./rbt_model2\n",
      "11/08/2021 19:54:03 - INFO - __main__ -   ***** Running evaluation on test dataset *****\n",
      "11/08/2021 19:54:03 - INFO - __main__ -     Batch size = 16\n"
     ]
    },
    {
     "name": "stdout",
     "output_type": "stream",
     "text": [
      "Save last model\n"
     ]
    },
    {
     "data": {
      "application/vnd.jupyter.widget-view+json": {
       "model_id": "a6b0533e4b9447fe8e5c8a93cecb711b",
       "version_major": 2,
       "version_minor": 0
      },
      "text/plain": [
       "Predicting:   0%|          | 0/78 [00:00<?, ?it/s]"
      ]
     },
     "metadata": {},
     "output_type": "display_data"
    },
    {
     "data": {
      "application/vnd.jupyter.widget-view+json": {
       "model_id": "eed9401e3f7c432cba4bd8355ee8d1cf",
       "version_major": 2,
       "version_minor": 0
      },
      "text/plain": [
       "  0%|          | 0/7748 [00:00<?, ?it/s]"
      ]
     },
     "metadata": {},
     "output_type": "display_data"
    },
    {
     "name": "stdout",
     "output_type": "stream",
     "text": [
      "228\n"
     ]
    },
    {
     "data": {
      "application/vnd.jupyter.widget-view+json": {
       "model_id": "f45057feb4894fa1b08aff5cf2ee619b",
       "version_major": 2,
       "version_minor": 0
      },
      "text/plain": [
       "  0%|          | 0/1166 [00:00<?, ?it/s]"
      ]
     },
     "metadata": {},
     "output_type": "display_data"
    },
    {
     "name": "stdout",
     "output_type": "stream",
     "text": [
      "200\n"
     ]
    },
    {
     "name": "stderr",
     "output_type": "stream",
     "text": [
      "Some weights of the model checkpoint at klue/roberta-large were not used when initializing RobertaModel: ['lm_head.dense.bias', 'lm_head.decoder.bias', 'lm_head.layer_norm.weight', 'lm_head.dense.weight', 'lm_head.layer_norm.bias', 'lm_head.bias', 'lm_head.decoder.weight']\n",
      "- This IS expected if you are initializing RobertaModel from the checkpoint of a model trained on another task or with another architecture (e.g. initializing a BertForSequenceClassification model from a BertForPreTraining model).\n",
      "- This IS NOT expected if you are initializing RobertaModel from the checkpoint of a model that you expect to be exactly identical (initializing a BertForSequenceClassification model from a BertForSequenceClassification model).\n",
      "Some weights of RobertaModel were not initialized from the model checkpoint at klue/roberta-large and are newly initialized: ['roberta.pooler.dense.bias', 'roberta.pooler.dense.weight']\n",
      "You should probably TRAIN this model on a down-stream task to be able to use it for predictions and inference.\n",
      "11/08/2021 19:54:39 - INFO - __main__ -   ***** Running training *****\n",
      "11/08/2021 19:54:39 - INFO - __main__ -     Num examples = 7748\n",
      "11/08/2021 19:54:39 - INFO - __main__ -     Num Epochs = 10\n",
      "11/08/2021 19:54:39 - INFO - __main__ -     Total train batch size = 16\n",
      "11/08/2021 19:54:39 - INFO - __main__ -     Gradient Accumulation steps = 2\n",
      "11/08/2021 19:54:39 - INFO - __main__ -     Total optimization steps = 2420\n",
      "11/08/2021 19:54:39 - INFO - __main__ -     Logging steps = 1292\n",
      "11/08/2021 19:54:39 - INFO - __main__ -     Save steps = 2584\n"
     ]
    },
    {
     "data": {
      "application/vnd.jupyter.widget-view+json": {
       "model_id": "33833a45f063496cb8ab1f7ca3b0b47e",
       "version_major": 2,
       "version_minor": 0
      },
      "text/plain": [
       "Epoch:   0%|          | 0/10 [00:00<?, ?it/s]"
      ]
     },
     "metadata": {},
     "output_type": "display_data"
    },
    {
     "data": {
      "application/vnd.jupyter.widget-view+json": {
       "model_id": "2a4ded90db1144729722beb4d4b837f3",
       "version_major": 2,
       "version_minor": 0
      },
      "text/plain": [
       "Iteration:   0%|          | 0/485 [00:00<?, ?it/s]"
      ]
     },
     "metadata": {},
     "output_type": "display_data"
    },
    {
     "name": "stderr",
     "output_type": "stream",
     "text": [
      "11/08/2021 19:54:40 - INFO - __main__ -     global steps = 0\n",
      "11/08/2021 20:02:01 - INFO - __main__ -   ---------------------------------------------------\n",
      "11/08/2021 20:02:01 - INFO - __main__ -   ***** Running evaluation on dev dataset *****\n",
      "11/08/2021 20:02:01 - INFO - __main__ -     Num examples = 1166\n",
      "11/08/2021 20:02:01 - INFO - __main__ -     Batch size = 16\n"
     ]
    },
    {
     "data": {
      "application/vnd.jupyter.widget-view+json": {
       "model_id": "41175d1d3bad4fd9b061cab062c14008",
       "version_major": 2,
       "version_minor": 0
      },
      "text/plain": [
       "Evaluating:   0%|          | 0/73 [00:00<?, ?it/s]"
      ]
     },
     "metadata": {},
     "output_type": "display_data"
    },
    {
     "name": "stderr",
     "output_type": "stream",
     "text": [
      "11/08/2021 20:02:25 - INFO - __main__ -   Saving model checkpoint to ./final_klue_roberta_model_3\n",
      "11/08/2021 20:02:25 - INFO - __main__ -   ***** Eval results *****\n",
      "11/08/2021 20:02:25 - INFO - __main__ -     acc = 0.8654\n",
      "11/08/2021 20:02:25 - INFO - __main__ -     loss = 0.3266\n",
      "11/08/2021 20:02:25 - INFO - __main__ -   ---------------------------------------------------\n"
     ]
    },
    {
     "name": "stdout",
     "output_type": "stream",
     "text": [
      "save new best model acc :  0.8653516295025729\n"
     ]
    },
    {
     "data": {
      "application/vnd.jupyter.widget-view+json": {
       "model_id": "bbf4c7c5a0644133819ae39bc2c0256f",
       "version_major": 2,
       "version_minor": 0
      },
      "text/plain": [
       "Iteration:   0%|          | 0/485 [00:00<?, ?it/s]"
      ]
     },
     "metadata": {},
     "output_type": "display_data"
    },
    {
     "name": "stderr",
     "output_type": "stream",
     "text": [
      "11/08/2021 20:09:46 - INFO - __main__ -   ---------------------------------------------------\n",
      "11/08/2021 20:09:46 - INFO - __main__ -   ***** Running evaluation on dev dataset *****\n",
      "11/08/2021 20:09:46 - INFO - __main__ -     Num examples = 1166\n",
      "11/08/2021 20:09:46 - INFO - __main__ -     Batch size = 16\n"
     ]
    },
    {
     "data": {
      "application/vnd.jupyter.widget-view+json": {
       "model_id": "31645996df7b4a86b4543594a844c799",
       "version_major": 2,
       "version_minor": 0
      },
      "text/plain": [
       "Evaluating:   0%|          | 0/73 [00:00<?, ?it/s]"
      ]
     },
     "metadata": {},
     "output_type": "display_data"
    },
    {
     "name": "stderr",
     "output_type": "stream",
     "text": [
      "11/08/2021 20:10:10 - INFO - __main__ -   Saving model checkpoint to ./final_klue_roberta_model_3\n",
      "11/08/2021 20:10:10 - INFO - __main__ -   ***** Eval results *****\n",
      "11/08/2021 20:10:10 - INFO - __main__ -     acc = 0.8997\n",
      "11/08/2021 20:10:10 - INFO - __main__ -     loss = 0.2590\n",
      "11/08/2021 20:10:10 - INFO - __main__ -   ---------------------------------------------------\n"
     ]
    },
    {
     "name": "stdout",
     "output_type": "stream",
     "text": [
      "save new best model acc :  0.8996569468267581\n"
     ]
    },
    {
     "data": {
      "application/vnd.jupyter.widget-view+json": {
       "model_id": "d40ab4f3abf94c6cb1bb117b32e79798",
       "version_major": 2,
       "version_minor": 0
      },
      "text/plain": [
       "Iteration:   0%|          | 0/485 [00:00<?, ?it/s]"
      ]
     },
     "metadata": {},
     "output_type": "display_data"
    },
    {
     "name": "stderr",
     "output_type": "stream",
     "text": [
      "11/08/2021 20:17:32 - INFO - __main__ -   ---------------------------------------------------\n",
      "11/08/2021 20:17:32 - INFO - __main__ -   ***** Running evaluation on dev dataset *****\n",
      "11/08/2021 20:17:32 - INFO - __main__ -     Num examples = 1166\n",
      "11/08/2021 20:17:32 - INFO - __main__ -     Batch size = 16\n"
     ]
    },
    {
     "data": {
      "application/vnd.jupyter.widget-view+json": {
       "model_id": "9cb59f4788a343e58c207be6feba2d94",
       "version_major": 2,
       "version_minor": 0
      },
      "text/plain": [
       "Evaluating:   0%|          | 0/73 [00:00<?, ?it/s]"
      ]
     },
     "metadata": {},
     "output_type": "display_data"
    },
    {
     "name": "stderr",
     "output_type": "stream",
     "text": [
      "11/08/2021 20:17:54 - INFO - __main__ -   ***** Eval results *****\n",
      "11/08/2021 20:17:54 - INFO - __main__ -     acc = 0.8868\n",
      "11/08/2021 20:17:54 - INFO - __main__ -     loss = 0.4748\n",
      "11/08/2021 20:17:54 - INFO - __main__ -   ---------------------------------------------------\n"
     ]
    },
    {
     "data": {
      "application/vnd.jupyter.widget-view+json": {
       "model_id": "88cd2d27aa1b4640a88ff570b9735a1c",
       "version_major": 2,
       "version_minor": 0
      },
      "text/plain": [
       "Iteration:   0%|          | 0/485 [00:00<?, ?it/s]"
      ]
     },
     "metadata": {},
     "output_type": "display_data"
    },
    {
     "name": "stderr",
     "output_type": "stream",
     "text": [
      "11/08/2021 20:25:15 - INFO - __main__ -   ---------------------------------------------------\n",
      "11/08/2021 20:25:15 - INFO - __main__ -   ***** Running evaluation on dev dataset *****\n",
      "11/08/2021 20:25:15 - INFO - __main__ -     Num examples = 1166\n",
      "11/08/2021 20:25:15 - INFO - __main__ -     Batch size = 16\n"
     ]
    },
    {
     "data": {
      "application/vnd.jupyter.widget-view+json": {
       "model_id": "94e0ec3377d74a429c0858dd236d6b72",
       "version_major": 2,
       "version_minor": 0
      },
      "text/plain": [
       "Evaluating:   0%|          | 0/73 [00:00<?, ?it/s]"
      ]
     },
     "metadata": {},
     "output_type": "display_data"
    },
    {
     "name": "stderr",
     "output_type": "stream",
     "text": [
      "11/08/2021 20:25:39 - INFO - __main__ -   Saving model checkpoint to ./final_klue_roberta_model_3\n",
      "11/08/2021 20:25:39 - INFO - __main__ -   ***** Eval results *****\n",
      "11/08/2021 20:25:39 - INFO - __main__ -     acc = 0.9005\n",
      "11/08/2021 20:25:39 - INFO - __main__ -     loss = 0.5024\n",
      "11/08/2021 20:25:39 - INFO - __main__ -   ---------------------------------------------------\n"
     ]
    },
    {
     "name": "stdout",
     "output_type": "stream",
     "text": [
      "save new best model acc :  0.9005145797598628\n"
     ]
    },
    {
     "data": {
      "application/vnd.jupyter.widget-view+json": {
       "model_id": "bb4166cdd49840a5b73aad514ed274d6",
       "version_major": 2,
       "version_minor": 0
      },
      "text/plain": [
       "Iteration:   0%|          | 0/485 [00:00<?, ?it/s]"
      ]
     },
     "metadata": {},
     "output_type": "display_data"
    },
    {
     "name": "stderr",
     "output_type": "stream",
     "text": [
      "11/08/2021 20:33:01 - INFO - __main__ -   ---------------------------------------------------\n",
      "11/08/2021 20:33:01 - INFO - __main__ -   ***** Running evaluation on dev dataset *****\n",
      "11/08/2021 20:33:01 - INFO - __main__ -     Num examples = 1166\n",
      "11/08/2021 20:33:01 - INFO - __main__ -     Batch size = 16\n"
     ]
    },
    {
     "data": {
      "application/vnd.jupyter.widget-view+json": {
       "model_id": "da63f55a768c4b40b0a5b4de72296865",
       "version_major": 2,
       "version_minor": 0
      },
      "text/plain": [
       "Evaluating:   0%|          | 0/73 [00:00<?, ?it/s]"
      ]
     },
     "metadata": {},
     "output_type": "display_data"
    },
    {
     "name": "stderr",
     "output_type": "stream",
     "text": [
      "11/08/2021 20:33:26 - INFO - __main__ -   Saving model checkpoint to ./final_klue_roberta_model_3\n",
      "11/08/2021 20:33:26 - INFO - __main__ -   ***** Eval results *****\n",
      "11/08/2021 20:33:26 - INFO - __main__ -     acc = 0.9108\n",
      "11/08/2021 20:33:26 - INFO - __main__ -     loss = 0.4603\n",
      "11/08/2021 20:33:26 - INFO - __main__ -   ---------------------------------------------------\n"
     ]
    },
    {
     "name": "stdout",
     "output_type": "stream",
     "text": [
      "save new best model acc :  0.9108061749571184\n"
     ]
    },
    {
     "data": {
      "application/vnd.jupyter.widget-view+json": {
       "model_id": "c530e6728dc34fb29f80b8fa554f113e",
       "version_major": 2,
       "version_minor": 0
      },
      "text/plain": [
       "Iteration:   0%|          | 0/485 [00:00<?, ?it/s]"
      ]
     },
     "metadata": {},
     "output_type": "display_data"
    },
    {
     "name": "stderr",
     "output_type": "stream",
     "text": [
      "11/08/2021 20:35:55 - INFO - __main__ -     global steps = 1292\n",
      "11/08/2021 20:35:56 - INFO - __main__ -     global steps = 1292\n",
      "11/08/2021 20:40:46 - INFO - __main__ -   ---------------------------------------------------\n",
      "11/08/2021 20:40:46 - INFO - __main__ -   ***** Running evaluation on dev dataset *****\n",
      "11/08/2021 20:40:46 - INFO - __main__ -     Num examples = 1166\n",
      "11/08/2021 20:40:46 - INFO - __main__ -     Batch size = 16\n"
     ]
    },
    {
     "data": {
      "application/vnd.jupyter.widget-view+json": {
       "model_id": "bb9ed5c217234f0cb117df089fdb61ea",
       "version_major": 2,
       "version_minor": 0
      },
      "text/plain": [
       "Evaluating:   0%|          | 0/73 [00:00<?, ?it/s]"
      ]
     },
     "metadata": {},
     "output_type": "display_data"
    },
    {
     "name": "stderr",
     "output_type": "stream",
     "text": [
      "11/08/2021 20:41:08 - INFO - __main__ -   ***** Eval results *****\n",
      "11/08/2021 20:41:08 - INFO - __main__ -     acc = 0.8945\n",
      "11/08/2021 20:41:08 - INFO - __main__ -     loss = 0.6545\n",
      "11/08/2021 20:41:08 - INFO - __main__ -   ---------------------------------------------------\n"
     ]
    },
    {
     "data": {
      "application/vnd.jupyter.widget-view+json": {
       "model_id": "1b4f332d209344b38dac1f7b9a3b584f",
       "version_major": 2,
       "version_minor": 0
      },
      "text/plain": [
       "Iteration:   0%|          | 0/485 [00:00<?, ?it/s]"
      ]
     },
     "metadata": {},
     "output_type": "display_data"
    },
    {
     "name": "stderr",
     "output_type": "stream",
     "text": [
      "11/08/2021 20:48:29 - INFO - __main__ -   ---------------------------------------------------\n",
      "11/08/2021 20:48:29 - INFO - __main__ -   ***** Running evaluation on dev dataset *****\n",
      "11/08/2021 20:48:29 - INFO - __main__ -     Num examples = 1166\n",
      "11/08/2021 20:48:29 - INFO - __main__ -     Batch size = 16\n"
     ]
    },
    {
     "data": {
      "application/vnd.jupyter.widget-view+json": {
       "model_id": "a9a3f2a85dc949d9873c699e2bb35d95",
       "version_major": 2,
       "version_minor": 0
      },
      "text/plain": [
       "Evaluating:   0%|          | 0/73 [00:00<?, ?it/s]"
      ]
     },
     "metadata": {},
     "output_type": "display_data"
    },
    {
     "name": "stderr",
     "output_type": "stream",
     "text": [
      "11/08/2021 20:48:55 - INFO - __main__ -   Saving model checkpoint to ./final_klue_roberta_model_3\n",
      "11/08/2021 20:48:55 - INFO - __main__ -   ***** Eval results *****\n",
      "11/08/2021 20:48:55 - INFO - __main__ -     acc = 0.9125\n",
      "11/08/2021 20:48:55 - INFO - __main__ -     loss = 0.5363\n",
      "11/08/2021 20:48:55 - INFO - __main__ -   ---------------------------------------------------\n"
     ]
    },
    {
     "name": "stdout",
     "output_type": "stream",
     "text": [
      "save new best model acc :  0.9125214408233276\n"
     ]
    },
    {
     "data": {
      "application/vnd.jupyter.widget-view+json": {
       "model_id": "150a16f44b0e48929d01d80d7272db72",
       "version_major": 2,
       "version_minor": 0
      },
      "text/plain": [
       "Iteration:   0%|          | 0/485 [00:00<?, ?it/s]"
      ]
     },
     "metadata": {},
     "output_type": "display_data"
    },
    {
     "name": "stderr",
     "output_type": "stream",
     "text": [
      "11/08/2021 20:56:15 - INFO - __main__ -   ---------------------------------------------------\n",
      "11/08/2021 20:56:15 - INFO - __main__ -   ***** Running evaluation on dev dataset *****\n",
      "11/08/2021 20:56:15 - INFO - __main__ -     Num examples = 1166\n",
      "11/08/2021 20:56:15 - INFO - __main__ -     Batch size = 16\n"
     ]
    },
    {
     "data": {
      "application/vnd.jupyter.widget-view+json": {
       "model_id": "398a7e9b05284b0c826b2f5f529c96c7",
       "version_major": 2,
       "version_minor": 0
      },
      "text/plain": [
       "Evaluating:   0%|          | 0/73 [00:00<?, ?it/s]"
      ]
     },
     "metadata": {},
     "output_type": "display_data"
    },
    {
     "name": "stderr",
     "output_type": "stream",
     "text": [
      "11/08/2021 20:56:37 - INFO - __main__ -   ***** Eval results *****\n",
      "11/08/2021 20:56:37 - INFO - __main__ -     acc = 0.9091\n",
      "11/08/2021 20:56:37 - INFO - __main__ -     loss = 0.6153\n",
      "11/08/2021 20:56:37 - INFO - __main__ -   ---------------------------------------------------\n"
     ]
    },
    {
     "data": {
      "application/vnd.jupyter.widget-view+json": {
       "model_id": "15d8be80666b40d281d53235762d2519",
       "version_major": 2,
       "version_minor": 0
      },
      "text/plain": [
       "Iteration:   0%|          | 0/485 [00:00<?, ?it/s]"
      ]
     },
     "metadata": {},
     "output_type": "display_data"
    },
    {
     "name": "stderr",
     "output_type": "stream",
     "text": [
      "11/08/2021 21:03:57 - INFO - __main__ -   ---------------------------------------------------\n",
      "11/08/2021 21:03:57 - INFO - __main__ -   ***** Running evaluation on dev dataset *****\n",
      "11/08/2021 21:03:57 - INFO - __main__ -     Num examples = 1166\n",
      "11/08/2021 21:03:57 - INFO - __main__ -     Batch size = 16\n"
     ]
    },
    {
     "data": {
      "application/vnd.jupyter.widget-view+json": {
       "model_id": "6aa894f1f5c04dfc8f68adaacaa329e3",
       "version_major": 2,
       "version_minor": 0
      },
      "text/plain": [
       "Evaluating:   0%|          | 0/73 [00:00<?, ?it/s]"
      ]
     },
     "metadata": {},
     "output_type": "display_data"
    },
    {
     "name": "stderr",
     "output_type": "stream",
     "text": [
      "11/08/2021 21:04:19 - INFO - __main__ -   ***** Eval results *****\n",
      "11/08/2021 21:04:19 - INFO - __main__ -     acc = 0.9099\n",
      "11/08/2021 21:04:19 - INFO - __main__ -     loss = 0.6729\n",
      "11/08/2021 21:04:19 - INFO - __main__ -   ---------------------------------------------------\n"
     ]
    },
    {
     "data": {
      "application/vnd.jupyter.widget-view+json": {
       "model_id": "48b05007510c41e2b6dc0d551cfb01bb",
       "version_major": 2,
       "version_minor": 0
      },
      "text/plain": [
       "Iteration:   0%|          | 0/485 [00:00<?, ?it/s]"
      ]
     },
     "metadata": {},
     "output_type": "display_data"
    },
    {
     "name": "stderr",
     "output_type": "stream",
     "text": [
      "11/08/2021 21:11:40 - INFO - __main__ -   ---------------------------------------------------\n",
      "11/08/2021 21:11:40 - INFO - __main__ -   ***** Running evaluation on dev dataset *****\n",
      "11/08/2021 21:11:40 - INFO - __main__ -     Num examples = 1166\n",
      "11/08/2021 21:11:40 - INFO - __main__ -     Batch size = 16\n"
     ]
    },
    {
     "data": {
      "application/vnd.jupyter.widget-view+json": {
       "model_id": "63de4e1df7e84010ad12accb54bd6bbe",
       "version_major": 2,
       "version_minor": 0
      },
      "text/plain": [
       "Evaluating:   0%|          | 0/73 [00:00<?, ?it/s]"
      ]
     },
     "metadata": {},
     "output_type": "display_data"
    },
    {
     "name": "stderr",
     "output_type": "stream",
     "text": [
      "11/08/2021 21:12:02 - INFO - __main__ -   ***** Eval results *****\n",
      "11/08/2021 21:12:02 - INFO - __main__ -     acc = 0.9057\n",
      "11/08/2021 21:12:02 - INFO - __main__ -     loss = 0.6884\n",
      "11/08/2021 21:12:02 - INFO - __main__ -   ---------------------------------------------------\n",
      "11/08/2021 21:12:04 - INFO - __main__ -   Saving model checkpoint to ./rbt_model3\n",
      "11/08/2021 21:12:04 - INFO - __main__ -   ***** Running evaluation on test dataset *****\n",
      "11/08/2021 21:12:04 - INFO - __main__ -     Batch size = 16\n"
     ]
    },
    {
     "name": "stdout",
     "output_type": "stream",
     "text": [
      "Save last model\n"
     ]
    },
    {
     "data": {
      "application/vnd.jupyter.widget-view+json": {
       "model_id": "f2d5ffe4529443a390f3af25bcbb719c",
       "version_major": 2,
       "version_minor": 0
      },
      "text/plain": [
       "Predicting:   0%|          | 0/78 [00:00<?, ?it/s]"
      ]
     },
     "metadata": {},
     "output_type": "display_data"
    },
    {
     "data": {
      "application/vnd.jupyter.widget-view+json": {
       "model_id": "b94b5706294942b3a4f44d388b591380",
       "version_major": 2,
       "version_minor": 0
      },
      "text/plain": [
       "  0%|          | 0/7748 [00:00<?, ?it/s]"
      ]
     },
     "metadata": {},
     "output_type": "display_data"
    },
    {
     "name": "stdout",
     "output_type": "stream",
     "text": [
      "228\n"
     ]
    },
    {
     "data": {
      "application/vnd.jupyter.widget-view+json": {
       "model_id": "2fd81321ab0c45b8b3931706437dca8f",
       "version_major": 2,
       "version_minor": 0
      },
      "text/plain": [
       "  0%|          | 0/1166 [00:00<?, ?it/s]"
      ]
     },
     "metadata": {},
     "output_type": "display_data"
    },
    {
     "name": "stdout",
     "output_type": "stream",
     "text": [
      "200\n"
     ]
    },
    {
     "name": "stderr",
     "output_type": "stream",
     "text": [
      "Some weights of the model checkpoint at klue/roberta-large were not used when initializing RobertaModel: ['lm_head.dense.bias', 'lm_head.decoder.bias', 'lm_head.layer_norm.weight', 'lm_head.dense.weight', 'lm_head.layer_norm.bias', 'lm_head.bias', 'lm_head.decoder.weight']\n",
      "- This IS expected if you are initializing RobertaModel from the checkpoint of a model trained on another task or with another architecture (e.g. initializing a BertForSequenceClassification model from a BertForPreTraining model).\n",
      "- This IS NOT expected if you are initializing RobertaModel from the checkpoint of a model that you expect to be exactly identical (initializing a BertForSequenceClassification model from a BertForSequenceClassification model).\n",
      "Some weights of RobertaModel were not initialized from the model checkpoint at klue/roberta-large and are newly initialized: ['roberta.pooler.dense.bias', 'roberta.pooler.dense.weight']\n",
      "You should probably TRAIN this model on a down-stream task to be able to use it for predictions and inference.\n",
      "11/08/2021 21:12:40 - INFO - __main__ -   ***** Running training *****\n",
      "11/08/2021 21:12:40 - INFO - __main__ -     Num examples = 7748\n",
      "11/08/2021 21:12:40 - INFO - __main__ -     Num Epochs = 10\n",
      "11/08/2021 21:12:40 - INFO - __main__ -     Total train batch size = 16\n",
      "11/08/2021 21:12:40 - INFO - __main__ -     Gradient Accumulation steps = 2\n",
      "11/08/2021 21:12:40 - INFO - __main__ -     Total optimization steps = 2420\n",
      "11/08/2021 21:12:40 - INFO - __main__ -     Logging steps = 1292\n",
      "11/08/2021 21:12:40 - INFO - __main__ -     Save steps = 2584\n"
     ]
    },
    {
     "data": {
      "application/vnd.jupyter.widget-view+json": {
       "model_id": "afaf8f3b9fdf4c39a1a4c1b89fe31c0d",
       "version_major": 2,
       "version_minor": 0
      },
      "text/plain": [
       "Epoch:   0%|          | 0/10 [00:00<?, ?it/s]"
      ]
     },
     "metadata": {},
     "output_type": "display_data"
    },
    {
     "data": {
      "application/vnd.jupyter.widget-view+json": {
       "model_id": "4cb7bc062a9a43f79abf7a664bca856a",
       "version_major": 2,
       "version_minor": 0
      },
      "text/plain": [
       "Iteration:   0%|          | 0/485 [00:00<?, ?it/s]"
      ]
     },
     "metadata": {},
     "output_type": "display_data"
    },
    {
     "name": "stderr",
     "output_type": "stream",
     "text": [
      "11/08/2021 21:12:41 - INFO - __main__ -     global steps = 0\n",
      "11/08/2021 21:20:01 - INFO - __main__ -   ---------------------------------------------------\n",
      "11/08/2021 21:20:01 - INFO - __main__ -   ***** Running evaluation on dev dataset *****\n",
      "11/08/2021 21:20:01 - INFO - __main__ -     Num examples = 1166\n",
      "11/08/2021 21:20:01 - INFO - __main__ -     Batch size = 16\n"
     ]
    },
    {
     "data": {
      "application/vnd.jupyter.widget-view+json": {
       "model_id": "c69f213b112a4d85960ef49096dc7667",
       "version_major": 2,
       "version_minor": 0
      },
      "text/plain": [
       "Evaluating:   0%|          | 0/73 [00:00<?, ?it/s]"
      ]
     },
     "metadata": {},
     "output_type": "display_data"
    },
    {
     "name": "stderr",
     "output_type": "stream",
     "text": [
      "11/08/2021 21:20:25 - INFO - __main__ -   Saving model checkpoint to ./final_klue_roberta_model_4\n",
      "11/08/2021 21:20:25 - INFO - __main__ -   ***** Eval results *****\n",
      "11/08/2021 21:20:25 - INFO - __main__ -     acc = 0.8568\n",
      "11/08/2021 21:20:25 - INFO - __main__ -     loss = 0.3392\n",
      "11/08/2021 21:20:25 - INFO - __main__ -   ---------------------------------------------------\n"
     ]
    },
    {
     "name": "stdout",
     "output_type": "stream",
     "text": [
      "save new best model acc :  0.8567753001715266\n"
     ]
    },
    {
     "data": {
      "application/vnd.jupyter.widget-view+json": {
       "model_id": "a4ce9cfeb144437ca5bee82608f591e6",
       "version_major": 2,
       "version_minor": 0
      },
      "text/plain": [
       "Iteration:   0%|          | 0/485 [00:00<?, ?it/s]"
      ]
     },
     "metadata": {},
     "output_type": "display_data"
    },
    {
     "name": "stderr",
     "output_type": "stream",
     "text": [
      "11/08/2021 21:27:47 - INFO - __main__ -   ---------------------------------------------------\n",
      "11/08/2021 21:27:47 - INFO - __main__ -   ***** Running evaluation on dev dataset *****\n",
      "11/08/2021 21:27:47 - INFO - __main__ -     Num examples = 1166\n",
      "11/08/2021 21:27:47 - INFO - __main__ -     Batch size = 16\n"
     ]
    },
    {
     "data": {
      "application/vnd.jupyter.widget-view+json": {
       "model_id": "74be896257474eca90a59248a4e037f5",
       "version_major": 2,
       "version_minor": 0
      },
      "text/plain": [
       "Evaluating:   0%|          | 0/73 [00:00<?, ?it/s]"
      ]
     },
     "metadata": {},
     "output_type": "display_data"
    },
    {
     "name": "stderr",
     "output_type": "stream",
     "text": [
      "11/08/2021 21:28:09 - INFO - __main__ -   ***** Eval results *****\n",
      "11/08/2021 21:28:09 - INFO - __main__ -     acc = 0.8345\n",
      "11/08/2021 21:28:09 - INFO - __main__ -     loss = 0.4212\n",
      "11/08/2021 21:28:09 - INFO - __main__ -   ---------------------------------------------------\n"
     ]
    },
    {
     "data": {
      "application/vnd.jupyter.widget-view+json": {
       "model_id": "37927aab22b64b2b94da926508a814e1",
       "version_major": 2,
       "version_minor": 0
      },
      "text/plain": [
       "Iteration:   0%|          | 0/485 [00:00<?, ?it/s]"
      ]
     },
     "metadata": {},
     "output_type": "display_data"
    },
    {
     "name": "stderr",
     "output_type": "stream",
     "text": [
      "11/08/2021 21:35:30 - INFO - __main__ -   ---------------------------------------------------\n",
      "11/08/2021 21:35:30 - INFO - __main__ -   ***** Running evaluation on dev dataset *****\n",
      "11/08/2021 21:35:30 - INFO - __main__ -     Num examples = 1166\n",
      "11/08/2021 21:35:30 - INFO - __main__ -     Batch size = 16\n"
     ]
    },
    {
     "data": {
      "application/vnd.jupyter.widget-view+json": {
       "model_id": "802f7b379b7f40438d5b22d6caed0f3c",
       "version_major": 2,
       "version_minor": 0
      },
      "text/plain": [
       "Evaluating:   0%|          | 0/73 [00:00<?, ?it/s]"
      ]
     },
     "metadata": {},
     "output_type": "display_data"
    },
    {
     "name": "stderr",
     "output_type": "stream",
     "text": [
      "11/08/2021 21:35:56 - INFO - __main__ -   Saving model checkpoint to ./final_klue_roberta_model_4\n",
      "11/08/2021 21:35:56 - INFO - __main__ -   ***** Eval results *****\n",
      "11/08/2021 21:35:56 - INFO - __main__ -     acc = 0.8988\n",
      "11/08/2021 21:35:56 - INFO - __main__ -     loss = 0.3255\n",
      "11/08/2021 21:35:56 - INFO - __main__ -   ---------------------------------------------------\n"
     ]
    },
    {
     "name": "stdout",
     "output_type": "stream",
     "text": [
      "save new best model acc :  0.8987993138936535\n"
     ]
    },
    {
     "data": {
      "application/vnd.jupyter.widget-view+json": {
       "model_id": "5819d21e23fd48f7b3a5dc468008637f",
       "version_major": 2,
       "version_minor": 0
      },
      "text/plain": [
       "Iteration:   0%|          | 0/485 [00:00<?, ?it/s]"
      ]
     },
     "metadata": {},
     "output_type": "display_data"
    },
    {
     "name": "stderr",
     "output_type": "stream",
     "text": [
      "11/08/2021 21:43:17 - INFO - __main__ -   ---------------------------------------------------\n",
      "11/08/2021 21:43:17 - INFO - __main__ -   ***** Running evaluation on dev dataset *****\n",
      "11/08/2021 21:43:17 - INFO - __main__ -     Num examples = 1166\n",
      "11/08/2021 21:43:17 - INFO - __main__ -     Batch size = 16\n"
     ]
    },
    {
     "data": {
      "application/vnd.jupyter.widget-view+json": {
       "model_id": "2b9e89c90a9147ae8e6a83f4d0be58fb",
       "version_major": 2,
       "version_minor": 0
      },
      "text/plain": [
       "Evaluating:   0%|          | 0/73 [00:00<?, ?it/s]"
      ]
     },
     "metadata": {},
     "output_type": "display_data"
    },
    {
     "name": "stderr",
     "output_type": "stream",
     "text": [
      "11/08/2021 21:43:39 - INFO - __main__ -   ***** Eval results *****\n",
      "11/08/2021 21:43:39 - INFO - __main__ -     acc = 0.8868\n",
      "11/08/2021 21:43:39 - INFO - __main__ -     loss = 0.4595\n",
      "11/08/2021 21:43:39 - INFO - __main__ -   ---------------------------------------------------\n"
     ]
    },
    {
     "data": {
      "application/vnd.jupyter.widget-view+json": {
       "model_id": "68cb4022b1284baa8d4a854ede2e9fdb",
       "version_major": 2,
       "version_minor": 0
      },
      "text/plain": [
       "Iteration:   0%|          | 0/485 [00:00<?, ?it/s]"
      ]
     },
     "metadata": {},
     "output_type": "display_data"
    },
    {
     "name": "stderr",
     "output_type": "stream",
     "text": [
      "11/08/2021 21:51:00 - INFO - __main__ -   ---------------------------------------------------\n",
      "11/08/2021 21:51:00 - INFO - __main__ -   ***** Running evaluation on dev dataset *****\n",
      "11/08/2021 21:51:00 - INFO - __main__ -     Num examples = 1166\n",
      "11/08/2021 21:51:00 - INFO - __main__ -     Batch size = 16\n"
     ]
    },
    {
     "data": {
      "application/vnd.jupyter.widget-view+json": {
       "model_id": "7f8dd48d37494e74b927aeec16f447b8",
       "version_major": 2,
       "version_minor": 0
      },
      "text/plain": [
       "Evaluating:   0%|          | 0/73 [00:00<?, ?it/s]"
      ]
     },
     "metadata": {},
     "output_type": "display_data"
    },
    {
     "name": "stderr",
     "output_type": "stream",
     "text": [
      "11/08/2021 21:51:22 - INFO - __main__ -   ***** Eval results *****\n",
      "11/08/2021 21:51:22 - INFO - __main__ -     acc = 0.8945\n",
      "11/08/2021 21:51:22 - INFO - __main__ -     loss = 0.5487\n",
      "11/08/2021 21:51:22 - INFO - __main__ -   ---------------------------------------------------\n"
     ]
    },
    {
     "data": {
      "application/vnd.jupyter.widget-view+json": {
       "model_id": "88529b0f579d47198de1e1a083a15bfb",
       "version_major": 2,
       "version_minor": 0
      },
      "text/plain": [
       "Iteration:   0%|          | 0/485 [00:00<?, ?it/s]"
      ]
     },
     "metadata": {},
     "output_type": "display_data"
    },
    {
     "name": "stderr",
     "output_type": "stream",
     "text": [
      "11/08/2021 21:53:51 - INFO - __main__ -     global steps = 1292\n",
      "11/08/2021 21:53:52 - INFO - __main__ -     global steps = 1292\n",
      "11/08/2021 21:58:43 - INFO - __main__ -   ---------------------------------------------------\n",
      "11/08/2021 21:58:43 - INFO - __main__ -   ***** Running evaluation on dev dataset *****\n",
      "11/08/2021 21:58:43 - INFO - __main__ -     Num examples = 1166\n",
      "11/08/2021 21:58:43 - INFO - __main__ -     Batch size = 16\n"
     ]
    },
    {
     "data": {
      "application/vnd.jupyter.widget-view+json": {
       "model_id": "099457e8dcc749fea1c02a2fc91e04cb",
       "version_major": 2,
       "version_minor": 0
      },
      "text/plain": [
       "Evaluating:   0%|          | 0/73 [00:00<?, ?it/s]"
      ]
     },
     "metadata": {},
     "output_type": "display_data"
    },
    {
     "name": "stderr",
     "output_type": "stream",
     "text": [
      "11/08/2021 21:59:05 - INFO - __main__ -   ***** Eval results *****\n",
      "11/08/2021 21:59:05 - INFO - __main__ -     acc = 0.8979\n",
      "11/08/2021 21:59:05 - INFO - __main__ -     loss = 0.5816\n",
      "11/08/2021 21:59:05 - INFO - __main__ -   ---------------------------------------------------\n"
     ]
    },
    {
     "data": {
      "application/vnd.jupyter.widget-view+json": {
       "model_id": "4d81a4dc79b146e8aacd86076c15f97c",
       "version_major": 2,
       "version_minor": 0
      },
      "text/plain": [
       "Iteration:   0%|          | 0/485 [00:00<?, ?it/s]"
      ]
     },
     "metadata": {},
     "output_type": "display_data"
    },
    {
     "name": "stderr",
     "output_type": "stream",
     "text": [
      "11/08/2021 22:06:26 - INFO - __main__ -   ---------------------------------------------------\n",
      "11/08/2021 22:06:26 - INFO - __main__ -   ***** Running evaluation on dev dataset *****\n",
      "11/08/2021 22:06:26 - INFO - __main__ -     Num examples = 1166\n",
      "11/08/2021 22:06:26 - INFO - __main__ -     Batch size = 16\n"
     ]
    },
    {
     "data": {
      "application/vnd.jupyter.widget-view+json": {
       "model_id": "4fec66f211f042e7b81af80622107ed4",
       "version_major": 2,
       "version_minor": 0
      },
      "text/plain": [
       "Evaluating:   0%|          | 0/73 [00:00<?, ?it/s]"
      ]
     },
     "metadata": {},
     "output_type": "display_data"
    },
    {
     "name": "stderr",
     "output_type": "stream",
     "text": [
      "11/08/2021 22:06:51 - INFO - __main__ -   Saving model checkpoint to ./final_klue_roberta_model_4\n",
      "11/08/2021 22:06:51 - INFO - __main__ -   ***** Eval results *****\n",
      "11/08/2021 22:06:51 - INFO - __main__ -     acc = 0.9005\n",
      "11/08/2021 22:06:51 - INFO - __main__ -     loss = 0.6800\n",
      "11/08/2021 22:06:51 - INFO - __main__ -   ---------------------------------------------------\n"
     ]
    },
    {
     "name": "stdout",
     "output_type": "stream",
     "text": [
      "save new best model acc :  0.9005145797598628\n"
     ]
    },
    {
     "data": {
      "application/vnd.jupyter.widget-view+json": {
       "model_id": "e8365b55ef574d4f909916988508a6af",
       "version_major": 2,
       "version_minor": 0
      },
      "text/plain": [
       "Iteration:   0%|          | 0/485 [00:00<?, ?it/s]"
      ]
     },
     "metadata": {},
     "output_type": "display_data"
    },
    {
     "name": "stderr",
     "output_type": "stream",
     "text": [
      "11/08/2021 22:14:11 - INFO - __main__ -   ---------------------------------------------------\n",
      "11/08/2021 22:14:11 - INFO - __main__ -   ***** Running evaluation on dev dataset *****\n",
      "11/08/2021 22:14:11 - INFO - __main__ -     Num examples = 1166\n",
      "11/08/2021 22:14:11 - INFO - __main__ -     Batch size = 16\n"
     ]
    },
    {
     "data": {
      "application/vnd.jupyter.widget-view+json": {
       "model_id": "6235b50f46ab49cf9940b3c4383cd2dc",
       "version_major": 2,
       "version_minor": 0
      },
      "text/plain": [
       "Evaluating:   0%|          | 0/73 [00:00<?, ?it/s]"
      ]
     },
     "metadata": {},
     "output_type": "display_data"
    },
    {
     "name": "stderr",
     "output_type": "stream",
     "text": [
      "11/08/2021 22:14:33 - INFO - __main__ -   ***** Eval results *****\n",
      "11/08/2021 22:14:33 - INFO - __main__ -     acc = 0.8911\n",
      "11/08/2021 22:14:33 - INFO - __main__ -     loss = 0.7817\n",
      "11/08/2021 22:14:33 - INFO - __main__ -   ---------------------------------------------------\n"
     ]
    },
    {
     "data": {
      "application/vnd.jupyter.widget-view+json": {
       "model_id": "cea6db58e20a45e493cc41aab71a9f42",
       "version_major": 2,
       "version_minor": 0
      },
      "text/plain": [
       "Iteration:   0%|          | 0/485 [00:00<?, ?it/s]"
      ]
     },
     "metadata": {},
     "output_type": "display_data"
    },
    {
     "name": "stderr",
     "output_type": "stream",
     "text": [
      "11/08/2021 22:21:54 - INFO - __main__ -   ---------------------------------------------------\n",
      "11/08/2021 22:21:54 - INFO - __main__ -   ***** Running evaluation on dev dataset *****\n",
      "11/08/2021 22:21:54 - INFO - __main__ -     Num examples = 1166\n",
      "11/08/2021 22:21:54 - INFO - __main__ -     Batch size = 16\n"
     ]
    },
    {
     "data": {
      "application/vnd.jupyter.widget-view+json": {
       "model_id": "17b82d0a3f8644779ae46035d34bb160",
       "version_major": 2,
       "version_minor": 0
      },
      "text/plain": [
       "Evaluating:   0%|          | 0/73 [00:00<?, ?it/s]"
      ]
     },
     "metadata": {},
     "output_type": "display_data"
    },
    {
     "name": "stderr",
     "output_type": "stream",
     "text": [
      "11/08/2021 22:22:16 - INFO - __main__ -   ***** Eval results *****\n",
      "11/08/2021 22:22:16 - INFO - __main__ -     acc = 0.8971\n",
      "11/08/2021 22:22:16 - INFO - __main__ -     loss = 0.7606\n",
      "11/08/2021 22:22:16 - INFO - __main__ -   ---------------------------------------------------\n"
     ]
    },
    {
     "data": {
      "application/vnd.jupyter.widget-view+json": {
       "model_id": "3a52015b1ba84d3cac5ffeda44e66228",
       "version_major": 2,
       "version_minor": 0
      },
      "text/plain": [
       "Iteration:   0%|          | 0/485 [00:00<?, ?it/s]"
      ]
     },
     "metadata": {},
     "output_type": "display_data"
    },
    {
     "name": "stderr",
     "output_type": "stream",
     "text": [
      "11/08/2021 22:29:36 - INFO - __main__ -   ---------------------------------------------------\n",
      "11/08/2021 22:29:36 - INFO - __main__ -   ***** Running evaluation on dev dataset *****\n",
      "11/08/2021 22:29:36 - INFO - __main__ -     Num examples = 1166\n",
      "11/08/2021 22:29:36 - INFO - __main__ -     Batch size = 16\n"
     ]
    },
    {
     "data": {
      "application/vnd.jupyter.widget-view+json": {
       "model_id": "de314dcac2794c0cb1b757f106c7783d",
       "version_major": 2,
       "version_minor": 0
      },
      "text/plain": [
       "Evaluating:   0%|          | 0/73 [00:00<?, ?it/s]"
      ]
     },
     "metadata": {},
     "output_type": "display_data"
    },
    {
     "name": "stderr",
     "output_type": "stream",
     "text": [
      "11/08/2021 22:29:58 - INFO - __main__ -   ***** Eval results *****\n",
      "11/08/2021 22:29:58 - INFO - __main__ -     acc = 0.8979\n",
      "11/08/2021 22:29:58 - INFO - __main__ -     loss = 0.7461\n",
      "11/08/2021 22:29:58 - INFO - __main__ -   ---------------------------------------------------\n",
      "11/08/2021 22:30:00 - INFO - __main__ -   Saving model checkpoint to ./rbt_model4\n",
      "11/08/2021 22:30:00 - INFO - __main__ -   ***** Running evaluation on test dataset *****\n",
      "11/08/2021 22:30:00 - INFO - __main__ -     Batch size = 16\n"
     ]
    },
    {
     "name": "stdout",
     "output_type": "stream",
     "text": [
      "Save last model\n"
     ]
    },
    {
     "data": {
      "application/vnd.jupyter.widget-view+json": {
       "model_id": "7fb39971c18f4dd290e0632e10bab3aa",
       "version_major": 2,
       "version_minor": 0
      },
      "text/plain": [
       "Predicting:   0%|          | 0/78 [00:00<?, ?it/s]"
      ]
     },
     "metadata": {},
     "output_type": "display_data"
    }
   ],
   "source": [
    "for fold in tqdm(range(5)): \n",
    "    init_logger()\n",
    "    \n",
    "    trn_idx = conact_dataset[conact_dataset['fold'] != fold].index\n",
    "    val_idx = conact_dataset[conact_dataset['fold'] == fold].index\n",
    "    \n",
    "    half_val_len = len(val_idx)//2\n",
    "    add_trn_idx = val_idx[:half_val_len]\n",
    "    \n",
    "    trn_idx.append(add_trn_idx)\n",
    "    val_idx = val_idx[half_val_len:]\n",
    "\n",
    "    train_folds = conact_dataset.loc[trn_idx].reset_index(drop=True).drop(['fold'],axis=1)\n",
    "    valid_folds = conact_dataset.loc[val_idx].reset_index(drop=True).drop(['fold'],axis=1)\n",
    "    \n",
    "    train_Dataset = convert_sentence_to_features(train_dataset, tokenizer, max_len = 280, mode='train')\n",
    "    valid_Dataset = convert_sentence_to_features(dev_dataset, tokenizer, max_len= 280, mode='eval')\n",
    "\n",
    "    trainer = Trainer(eval_batch_size=16,train_batch_size=16, num_labels = 2,\n",
    "                    max_steps=-1, weight_decay=1e-2, learning_rate= 1e-5, \n",
    "                    adam_epsilon=1e-8, warmup_steps=64, num_train_epochs=10,\n",
    "                    logging_steps=1292, save_steps=2584, max_grad_norm=1.0, \n",
    "                    model_dir='./final_klue_roberta_model_'+str(fold),\n",
    "                    gradient_accumulation_steps=2,dropout_rate = 0.1, \n",
    "                    classifier_epoch=3,\n",
    "                    train_dataset=train_Dataset,\n",
    "                    dev_dataset=valid_Dataset,\n",
    "                    test_dataset=test_Dataset,\\\n",
    "                     tokenizer =tokenizer)\n",
    "    trainer.train()\n",
    "    trainer.save_model(new_dir='./rbt_model'+)\n",
    "    print('Save last model')\n",
    "    result = trainer.test_pred()\n",
    "    result.to_csv(str(fold)+'_final_klue_roberta_model_result.csv', index=False)\n",
    "    submission_json = {\"wic\" : []}\n",
    "    for i, pred in enumerate(result['label'],1):\n",
    "        if pred == 1:\n",
    "            submission_json[\"wic\"].append({\"idx\" : i, \"label\" : 'true'})\n",
    "        else:\n",
    "            submission_json[\"wic\"].append({\"idx\" : i, \"label\" : 'false'})\n",
    "        \n",
    "    with open(str(fold)+'_klue_roberta_submission.json', 'w') as fp:\n",
    "        json.dump(submission_json, fp)"
   ]
  }
 ],
 "metadata": {
  "interpreter": {
   "hash": "3644a24caf33331078381ca8c0995fe015b17555bb9dab8d51ec312746f22a97"
  },
  "kernelspec": {
   "display_name": "fhow",
   "language": "python",
   "name": "fhow"
  },
  "language_info": {
   "codemirror_mode": {
    "name": "ipython",
    "version": 3
   },
   "file_extension": ".py",
   "mimetype": "text/x-python",
   "name": "python",
   "nbconvert_exporter": "python",
   "pygments_lexer": "ipython3",
   "version": "3.8.11"
  }
 },
 "nbformat": 4,
 "nbformat_minor": 2
}
